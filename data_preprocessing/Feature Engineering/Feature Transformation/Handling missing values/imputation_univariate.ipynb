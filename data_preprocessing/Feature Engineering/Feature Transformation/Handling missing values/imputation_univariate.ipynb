{
  "nbformat": 4,
  "nbformat_minor": 0,
  "metadata": {
    "colab": {
      "name": "imputation_univariate.ipynb",
      "provenance": [],
      "collapsed_sections": []
    },
    "kernelspec": {
      "name": "python3",
      "display_name": "Python 3"
    },
    "language_info": {
      "name": "python"
    }
  },
  "cells": [
    {
      "cell_type": "code",
      "execution_count": 1,
      "metadata": {
        "id": "YtNjyxmLvPtC"
      },
      "outputs": [],
      "source": [
        "import pandas as pd\n",
        "import numpy as np\n",
        "import matplotlib.pyplot as plt\n",
        "import seaborn as sns"
      ]
    },
    {
      "cell_type": "markdown",
      "source": [
        "# **Handling missing values**\n",
        "\n",
        "### **Missing values can be treated in two ways: 1. Removing them , 2. Imputing them**\n",
        "\n",
        "### **Imputation:**\n",
        "> * #### **Univariate:**\n",
        ">> * **Numerical values:**\n",
        ">>> * Mean/ Median imputation\n",
        ">>> * Random imputation\n",
        ">>> * End of distribution imputation\n",
        ">> * **Categorical values:**\n",
        ">>> * Imputation with mode\n",
        ">>> * Imputation with the word \"missing\"\n",
        "\n",
        "> * #### **Multivariate:**\n",
        ">> * KNN imputer\n",
        ">> * Iterative imputer & MICE"
      ],
      "metadata": {
        "id": "EBFMaEpoxGdz"
      }
    },
    {
      "cell_type": "markdown",
      "source": [
        "## **Numerical values**"
      ],
      "metadata": {
        "id": "ApCtl3Xwl71F"
      }
    },
    {
      "cell_type": "markdown",
      "source": [
        "### **Mean/Median imputation**\n",
        "> * When data is almost normally distributed, we can use mean imputation.\n",
        "* We can use median imputation when the data is skewed."
      ],
      "metadata": {
        "id": "PWfNtOOfxVHx"
      }
    },
    {
      "cell_type": "markdown",
      "source": [
        "#### **Disadvantages**\n",
        "> * Distribution shape can change\n",
        "* Addition of extra outliers\n",
        "* Change in correlation/covariance between columns"
      ],
      "metadata": {
        "id": "sBwhBCuHyI5S"
      }
    },
    {
      "cell_type": "markdown",
      "source": [
        "**USED:** When data is Missing Completely at random (MCAR) and missing values are less than 5%"
      ],
      "metadata": {
        "id": "rk5wtWNqygE0"
      }
    },
    {
      "cell_type": "code",
      "source": [
        "df = pd.read_csv('titanic/train.csv')\n",
        "df = df[['Age','Fare','Survived']]\n",
        "for i in range(1,800,80):\n",
        "  df['Fare'][i] = None"
      ],
      "metadata": {
        "colab": {
          "base_uri": "https://localhost:8080/"
        },
        "id": "gAMdOu7Qvbv7",
        "outputId": "63c86f51-e430-4268-abf9-274591d9055b"
      },
      "execution_count": 2,
      "outputs": [
        {
          "output_type": "stream",
          "name": "stderr",
          "text": [
            "/usr/local/lib/python3.7/dist-packages/ipykernel_launcher.py:4: SettingWithCopyWarning: \n",
            "A value is trying to be set on a copy of a slice from a DataFrame\n",
            "\n",
            "See the caveats in the documentation: https://pandas.pydata.org/pandas-docs/stable/user_guide/indexing.html#returning-a-view-versus-a-copy\n",
            "  after removing the cwd from sys.path.\n"
          ]
        }
      ]
    },
    {
      "cell_type": "code",
      "source": [
        "df.shape"
      ],
      "metadata": {
        "colab": {
          "base_uri": "https://localhost:8080/"
        },
        "id": "EK8aiVwD1521",
        "outputId": "0d69f43c-78cf-410c-f259-9bf0a6a1d769"
      },
      "execution_count": 3,
      "outputs": [
        {
          "output_type": "execute_result",
          "data": {
            "text/plain": [
              "(891, 3)"
            ]
          },
          "metadata": {},
          "execution_count": 3
        }
      ]
    },
    {
      "cell_type": "code",
      "source": [
        "df.head(4)"
      ],
      "metadata": {
        "colab": {
          "base_uri": "https://localhost:8080/",
          "height": 174
        },
        "id": "NtpUFU92yxx7",
        "outputId": "374320a7-234c-445c-a2a5-abf8890cdabc"
      },
      "execution_count": 4,
      "outputs": [
        {
          "output_type": "execute_result",
          "data": {
            "text/plain": [
              "    Age    Fare  Survived\n",
              "0  22.0   7.250         0\n",
              "1  38.0     NaN         1\n",
              "2  26.0   7.925         1\n",
              "3  35.0  53.100         1"
            ],
            "text/html": [
              "\n",
              "  <div id=\"df-d5348e91-4c98-4aef-8b6f-bda2aee9b4b1\">\n",
              "    <div class=\"colab-df-container\">\n",
              "      <div>\n",
              "<style scoped>\n",
              "    .dataframe tbody tr th:only-of-type {\n",
              "        vertical-align: middle;\n",
              "    }\n",
              "\n",
              "    .dataframe tbody tr th {\n",
              "        vertical-align: top;\n",
              "    }\n",
              "\n",
              "    .dataframe thead th {\n",
              "        text-align: right;\n",
              "    }\n",
              "</style>\n",
              "<table border=\"1\" class=\"dataframe\">\n",
              "  <thead>\n",
              "    <tr style=\"text-align: right;\">\n",
              "      <th></th>\n",
              "      <th>Age</th>\n",
              "      <th>Fare</th>\n",
              "      <th>Survived</th>\n",
              "    </tr>\n",
              "  </thead>\n",
              "  <tbody>\n",
              "    <tr>\n",
              "      <th>0</th>\n",
              "      <td>22.0</td>\n",
              "      <td>7.250</td>\n",
              "      <td>0</td>\n",
              "    </tr>\n",
              "    <tr>\n",
              "      <th>1</th>\n",
              "      <td>38.0</td>\n",
              "      <td>NaN</td>\n",
              "      <td>1</td>\n",
              "    </tr>\n",
              "    <tr>\n",
              "      <th>2</th>\n",
              "      <td>26.0</td>\n",
              "      <td>7.925</td>\n",
              "      <td>1</td>\n",
              "    </tr>\n",
              "    <tr>\n",
              "      <th>3</th>\n",
              "      <td>35.0</td>\n",
              "      <td>53.100</td>\n",
              "      <td>1</td>\n",
              "    </tr>\n",
              "  </tbody>\n",
              "</table>\n",
              "</div>\n",
              "      <button class=\"colab-df-convert\" onclick=\"convertToInteractive('df-d5348e91-4c98-4aef-8b6f-bda2aee9b4b1')\"\n",
              "              title=\"Convert this dataframe to an interactive table.\"\n",
              "              style=\"display:none;\">\n",
              "        \n",
              "  <svg xmlns=\"http://www.w3.org/2000/svg\" height=\"24px\"viewBox=\"0 0 24 24\"\n",
              "       width=\"24px\">\n",
              "    <path d=\"M0 0h24v24H0V0z\" fill=\"none\"/>\n",
              "    <path d=\"M18.56 5.44l.94 2.06.94-2.06 2.06-.94-2.06-.94-.94-2.06-.94 2.06-2.06.94zm-11 1L8.5 8.5l.94-2.06 2.06-.94-2.06-.94L8.5 2.5l-.94 2.06-2.06.94zm10 10l.94 2.06.94-2.06 2.06-.94-2.06-.94-.94-2.06-.94 2.06-2.06.94z\"/><path d=\"M17.41 7.96l-1.37-1.37c-.4-.4-.92-.59-1.43-.59-.52 0-1.04.2-1.43.59L10.3 9.45l-7.72 7.72c-.78.78-.78 2.05 0 2.83L4 21.41c.39.39.9.59 1.41.59.51 0 1.02-.2 1.41-.59l7.78-7.78 2.81-2.81c.8-.78.8-2.07 0-2.86zM5.41 20L4 18.59l7.72-7.72 1.47 1.35L5.41 20z\"/>\n",
              "  </svg>\n",
              "      </button>\n",
              "      \n",
              "  <style>\n",
              "    .colab-df-container {\n",
              "      display:flex;\n",
              "      flex-wrap:wrap;\n",
              "      gap: 12px;\n",
              "    }\n",
              "\n",
              "    .colab-df-convert {\n",
              "      background-color: #E8F0FE;\n",
              "      border: none;\n",
              "      border-radius: 50%;\n",
              "      cursor: pointer;\n",
              "      display: none;\n",
              "      fill: #1967D2;\n",
              "      height: 32px;\n",
              "      padding: 0 0 0 0;\n",
              "      width: 32px;\n",
              "    }\n",
              "\n",
              "    .colab-df-convert:hover {\n",
              "      background-color: #E2EBFA;\n",
              "      box-shadow: 0px 1px 2px rgba(60, 64, 67, 0.3), 0px 1px 3px 1px rgba(60, 64, 67, 0.15);\n",
              "      fill: #174EA6;\n",
              "    }\n",
              "\n",
              "    [theme=dark] .colab-df-convert {\n",
              "      background-color: #3B4455;\n",
              "      fill: #D2E3FC;\n",
              "    }\n",
              "\n",
              "    [theme=dark] .colab-df-convert:hover {\n",
              "      background-color: #434B5C;\n",
              "      box-shadow: 0px 1px 3px 1px rgba(0, 0, 0, 0.15);\n",
              "      filter: drop-shadow(0px 1px 2px rgba(0, 0, 0, 0.3));\n",
              "      fill: #FFFFFF;\n",
              "    }\n",
              "  </style>\n",
              "\n",
              "      <script>\n",
              "        const buttonEl =\n",
              "          document.querySelector('#df-d5348e91-4c98-4aef-8b6f-bda2aee9b4b1 button.colab-df-convert');\n",
              "        buttonEl.style.display =\n",
              "          google.colab.kernel.accessAllowed ? 'block' : 'none';\n",
              "\n",
              "        async function convertToInteractive(key) {\n",
              "          const element = document.querySelector('#df-d5348e91-4c98-4aef-8b6f-bda2aee9b4b1');\n",
              "          const dataTable =\n",
              "            await google.colab.kernel.invokeFunction('convertToInteractive',\n",
              "                                                     [key], {});\n",
              "          if (!dataTable) return;\n",
              "\n",
              "          const docLinkHtml = 'Like what you see? Visit the ' +\n",
              "            '<a target=\"_blank\" href=https://colab.research.google.com/notebooks/data_table.ipynb>data table notebook</a>'\n",
              "            + ' to learn more about interactive tables.';\n",
              "          element.innerHTML = '';\n",
              "          dataTable['output_type'] = 'display_data';\n",
              "          await google.colab.output.renderOutput(dataTable, element);\n",
              "          const docLink = document.createElement('div');\n",
              "          docLink.innerHTML = docLinkHtml;\n",
              "          element.appendChild(docLink);\n",
              "        }\n",
              "      </script>\n",
              "    </div>\n",
              "  </div>\n",
              "  "
            ]
          },
          "metadata": {},
          "execution_count": 4
        }
      ]
    },
    {
      "cell_type": "code",
      "source": [
        "df.isnull().mean()*100"
      ],
      "metadata": {
        "colab": {
          "base_uri": "https://localhost:8080/"
        },
        "id": "ZpcVyR7TyyrK",
        "outputId": "39c00b27-f2bb-4841-cc28-7ad5c35ffa78"
      },
      "execution_count": 5,
      "outputs": [
        {
          "output_type": "execute_result",
          "data": {
            "text/plain": [
              "Age         19.865320\n",
              "Fare         1.122334\n",
              "Survived     0.000000\n",
              "dtype: float64"
            ]
          },
          "metadata": {},
          "execution_count": 5
        }
      ]
    },
    {
      "cell_type": "code",
      "source": [
        "mean_age = df['Age'].mean()\n",
        "median_age = df['Age'].median()\n",
        "\n",
        "mean_fare = df['Fare'].mean()\n",
        "median_fare = df['Fare'].median()\n",
        "\n",
        "mean_age,median_age,mean_fare,median_fare"
      ],
      "metadata": {
        "colab": {
          "base_uri": "https://localhost:8080/"
        },
        "id": "hT1Y1dYF1amm",
        "outputId": "ce711cbc-6185-4d10-a4c1-5a6670532deb"
      },
      "execution_count": 6,
      "outputs": [
        {
          "output_type": "execute_result",
          "data": {
            "text/plain": [
              "(29.69911764705882, 28.0, 32.328853802497136, 14.4542)"
            ]
          },
          "metadata": {},
          "execution_count": 6
        }
      ]
    },
    {
      "cell_type": "markdown",
      "source": [
        "### **Mean and median imputation using pandas**"
      ],
      "metadata": {
        "id": "zHbRjqoE2ih4"
      }
    },
    {
      "cell_type": "code",
      "source": [
        "df['Age_mean'] = df['Age'].fillna(mean_age)\n",
        "df['Age_median'] = df['Age'].fillna(median_age)\n",
        "\n",
        "df['Fare_mean'] = df['Fare'].fillna(mean_age)\n",
        "df['Fare_median'] = df['Fare'].fillna(median_age)"
      ],
      "metadata": {
        "id": "D3Zhh69hy1oS"
      },
      "execution_count": 7,
      "outputs": []
    },
    {
      "cell_type": "markdown",
      "source": [
        "**Examine change in variance**"
      ],
      "metadata": {
        "id": "C0HgFplY3V4O"
      }
    },
    {
      "cell_type": "code",
      "source": [
        "print(\"Variance of Age\")\n",
        "print(\"Before: \",df['Age'].var())\n",
        "print(\"After mean imputation : \",df['Age_mean'].var())\n",
        "print(\"After median imputation : \",df['Age_median'].var())"
      ],
      "metadata": {
        "colab": {
          "base_uri": "https://localhost:8080/"
        },
        "id": "BmUdnH0p2cEV",
        "outputId": "aec596d9-ac38-4533-ba8b-64b7c5b5501c"
      },
      "execution_count": 8,
      "outputs": [
        {
          "output_type": "stream",
          "name": "stdout",
          "text": [
            "Variance of Age\n",
            "Before:  211.0191247463081\n",
            "After mean imputation :  169.05239993721085\n",
            "After median imputation :  169.51249827942328\n"
          ]
        }
      ]
    },
    {
      "cell_type": "code",
      "source": [
        "print(\"Variance of Fare\")\n",
        "print(\"Before: \",df['Fare'].var())\n",
        "print(\"After mean imputation : \",df['Fare_mean'].var())\n",
        "print(\"After median imputation : \",df['Fare_median'].var())"
      ],
      "metadata": {
        "colab": {
          "base_uri": "https://localhost:8080/"
        },
        "id": "IwhpMrxx29gM",
        "outputId": "7e9402b4-c6ad-4494-8d1e-8991c5e9e18c"
      },
      "execution_count": 9,
      "outputs": [
        {
          "output_type": "stream",
          "name": "stdout",
          "text": [
            "Variance of Fare\n",
            "Before:  2489.0701387580325\n",
            "After mean imputation :  2461.17988885143\n",
            "After median imputation :  2461.3112457525144\n"
          ]
        }
      ]
    },
    {
      "cell_type": "markdown",
      "source": [
        "#### **Variance changes drastically in case of age but slightly in case of fare column.**"
      ],
      "metadata": {
        "id": "mHHX76xY4UFH"
      }
    },
    {
      "cell_type": "markdown",
      "source": [
        "**Examine change in distribution**"
      ],
      "metadata": {
        "id": "4hBHlbuD3Z88"
      }
    },
    {
      "cell_type": "markdown",
      "source": [
        "**PLot distribution**"
      ],
      "metadata": {
        "id": "0xi-Rd-6IeKS"
      }
    },
    {
      "cell_type": "code",
      "source": [
        "def plot_dist(col1,col2,col3,name1,name2,name3):\n",
        "  fig = plt.figure(figsize=(8,5))\n",
        "  ax=fig.add_subplot(111)\n",
        "\n",
        "  sns.kdeplot(df[col1],ax=ax)\n",
        "  sns.kdeplot(df[col2],ax=ax)\n",
        "  sns.kdeplot(df[col3],ax=ax)\n",
        "\n",
        "  plt.legend([name1,name2,name3])\n",
        "\n",
        "  plt.show()"
      ],
      "metadata": {
        "id": "NzemQB66IN36"
      },
      "execution_count": 10,
      "outputs": []
    },
    {
      "cell_type": "code",
      "source": [
        "plot_dist('Age','Age_mean','Age_median','Age','Mean imputed age', 'Median imputed age')"
      ],
      "metadata": {
        "colab": {
          "base_uri": "https://localhost:8080/",
          "height": 337
        },
        "id": "qX0Z5NE3IiOB",
        "outputId": "0019ef87-a492-4ba1-bb4d-66177ed249ba"
      },
      "execution_count": 11,
      "outputs": [
        {
          "output_type": "display_data",
          "data": {
            "text/plain": [
              "<Figure size 576x360 with 1 Axes>"
            ],
            "image/png": "[encoded data removed]"
          },
          "metadata": {
            "needs_background": "light"
          }
        }
      ]
    },
    {
      "cell_type": "code",
      "source": [
        "plot_dist('Fare','Fare_mean','Fare_median','fare','Mean imputed fare', 'Median imputed fare')"
      ],
      "metadata": {
        "colab": {
          "base_uri": "https://localhost:8080/",
          "height": 334
        },
        "id": "d1Hu5NwGIxQb",
        "outputId": "d8e2213a-6a0b-45e1-e08c-c82ffe50839b"
      },
      "execution_count": 12,
      "outputs": [
        {
          "output_type": "display_data",
          "data": {
            "text/plain": [
              "<Figure size 576x360 with 1 Axes>"
            ],
            "image/png": "[encoded data removed]"
          },
          "metadata": {
            "needs_background": "light"
          }
        }
      ]
    },
    {
      "cell_type": "markdown",
      "source": [
        "#### **Distribution shape changes on imputation.**"
      ],
      "metadata": {
        "id": "KHh3j_Ma4fNg"
      }
    },
    {
      "cell_type": "markdown",
      "source": [
        "### **Conclusion: We can impute the 'Fare' column with mean/median but not the 'Age' column**"
      ],
      "metadata": {
        "id": "CcyDU9P15UZd"
      }
    },
    {
      "cell_type": "markdown",
      "source": [
        "#### **Distribution shape doesnot change**"
      ],
      "metadata": {
        "id": "gzgy1aEl5BXp"
      }
    },
    {
      "cell_type": "markdown",
      "source": [
        "### **Boxplot to examine addition of outliers**"
      ],
      "metadata": {
        "id": "bOfVtDF75kvX"
      }
    },
    {
      "cell_type": "code",
      "source": [
        "df[['Age','Age_mean','Age_median']].boxplot()\n",
        "plt.show()"
      ],
      "metadata": {
        "colab": {
          "base_uri": "https://localhost:8080/",
          "height": 321
        },
        "id": "ee_NMYFJ4zl8",
        "outputId": "9b95a54b-c7ab-4d5c-f811-bdd477bd6532"
      },
      "execution_count": 13,
      "outputs": [
        {
          "output_type": "stream",
          "name": "stderr",
          "text": [
            "/usr/local/lib/python3.7/dist-packages/matplotlib/cbook/__init__.py:1376: VisibleDeprecationWarning: Creating an ndarray from ragged nested sequences (which is a list-or-tuple of lists-or-tuples-or ndarrays with different lengths or shapes) is deprecated. If you meant to do this, you must specify 'dtype=object' when creating the ndarray.\n",
            "  X = np.atleast_1d(X.T if isinstance(X, np.ndarray) else np.asarray(X))\n"
          ]
        },
        {
          "output_type": "display_data",
          "data": {
            "text/plain": [
              "<Figure size 432x288 with 1 Axes>"
            ],
            "image/png": "[encoded data removed]"
          },
          "metadata": {
            "needs_background": "light"
          }
        }
      ]
    },
    {
      "cell_type": "markdown",
      "source": [
        "**Inter quartile range shrinks a lot in this case, due to which the values which were previously not outliers are now considered outliers.**"
      ],
      "metadata": {
        "id": "-g-IHJ8M6Dsc"
      }
    },
    {
      "cell_type": "code",
      "source": [
        "df[['Fare','Fare_mean','Fare_median']].boxplot()\n",
        "plt.show()"
      ],
      "metadata": {
        "colab": {
          "base_uri": "https://localhost:8080/",
          "height": 321
        },
        "id": "zDwDyqj85xIA",
        "outputId": "adfac22d-0b37-43cb-9beb-e84cbdd7be52"
      },
      "execution_count": 14,
      "outputs": [
        {
          "output_type": "stream",
          "name": "stderr",
          "text": [
            "/usr/local/lib/python3.7/dist-packages/matplotlib/cbook/__init__.py:1376: VisibleDeprecationWarning: Creating an ndarray from ragged nested sequences (which is a list-or-tuple of lists-or-tuples-or ndarrays with different lengths or shapes) is deprecated. If you meant to do this, you must specify 'dtype=object' when creating the ndarray.\n",
            "  X = np.atleast_1d(X.T if isinstance(X, np.ndarray) else np.asarray(X))\n"
          ]
        },
        {
          "output_type": "display_data",
          "data": {
            "text/plain": [
              "<Figure size 432x288 with 1 Axes>"
            ],
            "image/png": "[encoded data removed]"
          },
          "metadata": {
            "needs_background": "light"
          }
        }
      ]
    },
    {
      "cell_type": "markdown",
      "source": [
        "**Negligible change in outlier quantity**"
      ],
      "metadata": {
        "id": "Tva1ZPuq6QSA"
      }
    },
    {
      "cell_type": "markdown",
      "source": [
        "## **Using scikit-learn**\n",
        "#### **Impute one column with mean and another with median using two simple imputers and a column transformer**"
      ],
      "metadata": {
        "id": "gKOpC4mA6w-c"
      }
    },
    {
      "cell_type": "code",
      "source": [
        "from sklearn.impute import SimpleImputer\n",
        "from sklearn.compose import ColumnTransformer"
      ],
      "metadata": {
        "id": "WrZII0as6BbT"
      },
      "execution_count": 15,
      "outputs": []
    },
    {
      "cell_type": "code",
      "source": [
        "imputer1 = SimpleImputer(strategy='median')\n",
        "imputer2 = SimpleImputer(strategy='mean')"
      ],
      "metadata": {
        "id": "TywBc1l27SCi"
      },
      "execution_count": 16,
      "outputs": []
    },
    {
      "cell_type": "code",
      "source": [
        "trf = ColumnTransformer([\n",
        "                         ('median imputer',imputer1,['Age']),\n",
        "                         ('mean imputer',imputer2,['Fare'])\n",
        "],remainder = 'passthrough')"
      ],
      "metadata": {
        "id": "UFhZzqXG7esW"
      },
      "execution_count": 17,
      "outputs": []
    },
    {
      "cell_type": "code",
      "source": [
        "trf.fit(df)"
      ],
      "metadata": {
        "colab": {
          "base_uri": "https://localhost:8080/"
        },
        "id": "-KIGf8GO73It",
        "outputId": "6950e764-462e-450f-c4ce-b7d0631ba18e"
      },
      "execution_count": 18,
      "outputs": [
        {
          "output_type": "execute_result",
          "data": {
            "text/plain": [
              "ColumnTransformer(remainder='passthrough',\n",
              "                  transformers=[('median imputer',\n",
              "                                 SimpleImputer(strategy='median'), ['Age']),\n",
              "                                ('mean imputer', SimpleImputer(), ['Fare'])])"
            ]
          },
          "metadata": {},
          "execution_count": 18
        }
      ]
    },
    {
      "cell_type": "code",
      "source": [
        "trf.transform(df)"
      ],
      "metadata": {
        "colab": {
          "base_uri": "https://localhost:8080/"
        },
        "id": "8bLwhxQx75tH",
        "outputId": "8261d9d7-b304-428a-8f1b-80f31fde5147"
      },
      "execution_count": 19,
      "outputs": [
        {
          "output_type": "execute_result",
          "data": {
            "text/plain": [
              "array([[22.        ,  7.25      ,  0.        , ..., 22.        ,\n",
              "         7.25      ,  7.25      ],\n",
              "       [38.        , 32.3288538 ,  1.        , ..., 38.        ,\n",
              "        29.69911765, 28.        ],\n",
              "       [26.        ,  7.925     ,  1.        , ..., 26.        ,\n",
              "         7.925     ,  7.925     ],\n",
              "       ...,\n",
              "       [28.        , 23.45      ,  0.        , ..., 28.        ,\n",
              "        23.45      , 23.45      ],\n",
              "       [26.        , 30.        ,  1.        , ..., 26.        ,\n",
              "        30.        , 30.        ],\n",
              "       [32.        ,  7.75      ,  0.        , ..., 32.        ,\n",
              "         7.75      ,  7.75      ]])"
            ]
          },
          "metadata": {},
          "execution_count": 19
        }
      ]
    },
    {
      "cell_type": "markdown",
      "source": [
        "## **Arbitrary value imputation**\n",
        "\n",
        "#### **Disadvantages**\n",
        "> * Distribution shape can change\n",
        "* Addition of extra outliers\n",
        "* Change in correlation/covariance between columns"
      ],
      "metadata": {
        "id": "jQ9XBsdV8b5R"
      }
    },
    {
      "cell_type": "markdown",
      "source": [
        "**USED:** When data is NOT missing completely at random (MNAR)"
      ],
      "metadata": {
        "id": "bhAOLzMx-RYe"
      }
    },
    {
      "cell_type": "code",
      "source": [
        "import random \n",
        "a,b = random.randint(-10,0),random.randint(10,100)\n",
        "a,b"
      ],
      "metadata": {
        "colab": {
          "base_uri": "https://localhost:8080/"
        },
        "id": "04vTl9Ts8IMi",
        "outputId": "e584e50b-0686-4253-c488-13f19e800938"
      },
      "execution_count": 20,
      "outputs": [
        {
          "output_type": "execute_result",
          "data": {
            "text/plain": [
              "(-5, 60)"
            ]
          },
          "metadata": {},
          "execution_count": 20
        }
      ]
    },
    {
      "cell_type": "code",
      "source": [
        "df['Age_1'] = df['Age'].fillna(a)\n",
        "df['Age_2'] = df['Age'].fillna(b)\n",
        "\n",
        "df['Fare_1'] = df['Fare'].fillna(a)\n",
        "df['Fare_2'] = df['Fare'].fillna(b)"
      ],
      "metadata": {
        "id": "lxnbqFWa838d"
      },
      "execution_count": 21,
      "outputs": []
    },
    {
      "cell_type": "code",
      "source": [
        "fig = plt.figure(figsize=(8,5))\n",
        "ax=fig.add_subplot(111)\n",
        "\n",
        "sns.kdeplot(df['Age'],ax=ax)\n",
        "sns.kdeplot(df['Age_1'],ax=ax)\n",
        "sns.kdeplot(df['Age_2'],ax=ax)\n",
        "\n",
        "plt.legend(['Age','a imputed age', 'b imputed age'])\n",
        "\n",
        "plt.show()"
      ],
      "metadata": {
        "colab": {
          "base_uri": "https://localhost:8080/",
          "height": 334
        },
        "id": "_NW7RUTs9Wur",
        "outputId": "e767e76c-96bb-4d83-944a-a3ba4f4e1322"
      },
      "execution_count": 22,
      "outputs": [
        {
          "output_type": "display_data",
          "data": {
            "text/plain": [
              "<Figure size 576x360 with 1 Axes>"
            ],
            "image/png": "[encoded data removed]"
          },
          "metadata": {
            "needs_background": "light"
          }
        }
      ]
    },
    {
      "cell_type": "code",
      "source": [
        "fig = plt.figure(figsize=(8,5))\n",
        "ax=fig.add_subplot(111)\n",
        "\n",
        "sns.kdeplot(df['Fare'],ax=ax)\n",
        "sns.kdeplot(df['Fare_1'],ax=ax)\n",
        "sns.kdeplot(df['Fare_2'],ax=ax)\n",
        "\n",
        "plt.legend(['Fare','a imputed fare', 'b imputed fare'])\n",
        "\n",
        "plt.show()"
      ],
      "metadata": {
        "colab": {
          "base_uri": "https://localhost:8080/",
          "height": 334
        },
        "id": "M_OAj_8B9f86",
        "outputId": "b9ced3fd-a723-452a-e458-b4805165ce5d"
      },
      "execution_count": 23,
      "outputs": [
        {
          "output_type": "display_data",
          "data": {
            "text/plain": [
              "<Figure size 576x360 with 1 Axes>"
            ],
            "image/png": "[encoded data removed]"
          },
          "metadata": {
            "needs_background": "light"
          }
        }
      ]
    },
    {
      "cell_type": "code",
      "source": [
        "df[['Age','Age_1','Age_2']].boxplot()"
      ],
      "metadata": {
        "colab": {
          "base_uri": "https://localhost:8080/",
          "height": 338
        },
        "id": "XUhse2JF94m_",
        "outputId": "30cc4e96-956f-44b8-9a3b-1bf1064b90d2"
      },
      "execution_count": 24,
      "outputs": [
        {
          "output_type": "stream",
          "name": "stderr",
          "text": [
            "/usr/local/lib/python3.7/dist-packages/matplotlib/cbook/__init__.py:1376: VisibleDeprecationWarning: Creating an ndarray from ragged nested sequences (which is a list-or-tuple of lists-or-tuples-or ndarrays with different lengths or shapes) is deprecated. If you meant to do this, you must specify 'dtype=object' when creating the ndarray.\n",
            "  X = np.atleast_1d(X.T if isinstance(X, np.ndarray) else np.asarray(X))\n"
          ]
        },
        {
          "output_type": "execute_result",
          "data": {
            "text/plain": [
              "<matplotlib.axes._subplots.AxesSubplot at 0x7fd5a6eff2d0>"
            ]
          },
          "metadata": {},
          "execution_count": 24
        },
        {
          "output_type": "display_data",
          "data": {
            "text/plain": [
              "<Figure size 432x288 with 1 Axes>"
            ],
            "image/png": "[encoded data removed]"
          },
          "metadata": {
            "needs_background": "light"
          }
        }
      ]
    },
    {
      "cell_type": "code",
      "source": [
        "df[['Fare','Fare_1','Fare_2']].boxplot()"
      ],
      "metadata": {
        "colab": {
          "base_uri": "https://localhost:8080/",
          "height": 338
        },
        "id": "QEIDiRJN-HOe",
        "outputId": "791b3768-5ca2-4966-baff-4c56a46431bb"
      },
      "execution_count": 25,
      "outputs": [
        {
          "output_type": "stream",
          "name": "stderr",
          "text": [
            "/usr/local/lib/python3.7/dist-packages/matplotlib/cbook/__init__.py:1376: VisibleDeprecationWarning: Creating an ndarray from ragged nested sequences (which is a list-or-tuple of lists-or-tuples-or ndarrays with different lengths or shapes) is deprecated. If you meant to do this, you must specify 'dtype=object' when creating the ndarray.\n",
            "  X = np.atleast_1d(X.T if isinstance(X, np.ndarray) else np.asarray(X))\n"
          ]
        },
        {
          "output_type": "execute_result",
          "data": {
            "text/plain": [
              "<matplotlib.axes._subplots.AxesSubplot at 0x7fd5a6de7750>"
            ]
          },
          "metadata": {},
          "execution_count": 25
        },
        {
          "output_type": "display_data",
          "data": {
            "text/plain": [
              "<Figure size 432x288 with 1 Axes>"
            ],
            "image/png": "[encoded data removed]"
          },
          "metadata": {
            "needs_background": "light"
          }
        }
      ]
    },
    {
      "cell_type": "markdown",
      "source": [
        "## **End of distribution imputation**\n",
        "\n",
        "**USED:** When data is MNAR\n",
        "\n",
        "#### **Disadvantages**\n",
        "> * Distribution shape can change\n",
        "* Addition of extra outliers\n",
        "* Change in correlation/covariance between columns\n",
        "\n",
        "\n",
        "* Missing value is imputed with mean+3*std OR mean-3*std"
      ],
      "metadata": {
        "id": "iREwuLAU-8iX"
      }
    },
    {
      "cell_type": "markdown",
      "source": [
        "## **Random imputation**\n",
        "(Fills NA values with random values taken from the dataset itself)\n",
        "\n",
        "> * Preserves the variance of the data.\n",
        "* Memory heavy for deployment, as we need to store the original training set to extract random values to be replaced in place of NA values in the coming observations.\n",
        "* Doesn't distort the PDF, therefore it is well suited for linear models."
      ],
      "metadata": {
        "id": "56bBtUURBQBH"
      }
    },
    {
      "cell_type": "code",
      "source": [
        "df['Age_imputed'] = df['Age']\n",
        "df['Fare_imputed'] = df['Fare']"
      ],
      "metadata": {
        "id": "S25f-Jkl-QAo"
      },
      "execution_count": 26,
      "outputs": []
    },
    {
      "cell_type": "code",
      "source": [
        "df['Age_imputed'][df['Age_imputed'].isnull()] = df['Age'].dropna().sample(df['Age'].isnull().sum()).values\n",
        "df['Fare_imputed'][df['Fare_imputed'].isnull()] = df['Fare'].dropna().sample(df['Fare'].isnull().sum()).values"
      ],
      "metadata": {
        "colab": {
          "base_uri": "https://localhost:8080/"
        },
        "id": "ResgAuYVCp3c",
        "outputId": "582e004d-e7b8-42d6-ba69-2e147f44af04"
      },
      "execution_count": 27,
      "outputs": [
        {
          "output_type": "stream",
          "name": "stderr",
          "text": [
            "/usr/local/lib/python3.7/dist-packages/ipykernel_launcher.py:1: SettingWithCopyWarning: \n",
            "A value is trying to be set on a copy of a slice from a DataFrame\n",
            "\n",
            "See the caveats in the documentation: https://pandas.pydata.org/pandas-docs/stable/user_guide/indexing.html#returning-a-view-versus-a-copy\n",
            "  \"\"\"Entry point for launching an IPython kernel.\n",
            "/usr/local/lib/python3.7/dist-packages/ipykernel_launcher.py:2: SettingWithCopyWarning: \n",
            "A value is trying to be set on a copy of a slice from a DataFrame\n",
            "\n",
            "See the caveats in the documentation: https://pandas.pydata.org/pandas-docs/stable/user_guide/indexing.html#returning-a-view-versus-a-copy\n",
            "  \n"
          ]
        }
      ]
    },
    {
      "cell_type": "code",
      "source": [
        "df.head(10)"
      ],
      "metadata": {
        "colab": {
          "base_uri": "https://localhost:8080/",
          "height": 363
        },
        "id": "hxz8z-_zC55k",
        "outputId": "e3dc85c3-743a-4db8-fb5c-d5e6966950ef"
      },
      "execution_count": 28,
      "outputs": [
        {
          "output_type": "execute_result",
          "data": {
            "text/plain": [
              "    Age     Fare  Survived   Age_mean  Age_median  Fare_mean  Fare_median  \\\n",
              "0  22.0   7.2500         0  22.000000        22.0   7.250000       7.2500   \n",
              "1  38.0      NaN         1  38.000000        38.0  29.699118      28.0000   \n",
              "2  26.0   7.9250         1  26.000000        26.0   7.925000       7.9250   \n",
              "3  35.0  53.1000         1  35.000000        35.0  53.100000      53.1000   \n",
              "4  35.0   8.0500         0  35.000000        35.0   8.050000       8.0500   \n",
              "5   NaN   8.4583         0  29.699118        28.0   8.458300       8.4583   \n",
              "6  54.0  51.8625         0  54.000000        54.0  51.862500      51.8625   \n",
              "7   2.0  21.0750         0   2.000000         2.0  21.075000      21.0750   \n",
              "8  27.0  11.1333         1  27.000000        27.0  11.133300      11.1333   \n",
              "9  14.0  30.0708         1  14.000000        14.0  30.070800      30.0708   \n",
              "\n",
              "   Age_1  Age_2   Fare_1   Fare_2  Age_imputed  Fare_imputed  \n",
              "0   22.0   22.0   7.2500   7.2500         22.0        7.2500  \n",
              "1   38.0   38.0  -5.0000  60.0000         38.0       79.6500  \n",
              "2   26.0   26.0   7.9250   7.9250         26.0        7.9250  \n",
              "3   35.0   35.0  53.1000  53.1000         35.0       53.1000  \n",
              "4   35.0   35.0   8.0500   8.0500         35.0        8.0500  \n",
              "5   -5.0   60.0   8.4583   8.4583         38.0        8.4583  \n",
              "6   54.0   54.0  51.8625  51.8625         54.0       51.8625  \n",
              "7    2.0    2.0  21.0750  21.0750          2.0       21.0750  \n",
              "8   27.0   27.0  11.1333  11.1333         27.0       11.1333  \n",
              "9   14.0   14.0  30.0708  30.0708         14.0       30.0708  "
            ],
            "text/html": [
              "\n",
              "  <div id=\"df-e9e001a4-4945-4806-943d-bdd8f46af16e\">\n",
              "    <div class=\"colab-df-container\">\n",
              "      <div>\n",
              "<style scoped>\n",
              "    .dataframe tbody tr th:only-of-type {\n",
              "        vertical-align: middle;\n",
              "    }\n",
              "\n",
              "    .dataframe tbody tr th {\n",
              "        vertical-align: top;\n",
              "    }\n",
              "\n",
              "    .dataframe thead th {\n",
              "        text-align: right;\n",
              "    }\n",
              "</style>\n",
              "<table border=\"1\" class=\"dataframe\">\n",
              "  <thead>\n",
              "    <tr style=\"text-align: right;\">\n",
              "      <th></th>\n",
              "      <th>Age</th>\n",
              "      <th>Fare</th>\n",
              "      <th>Survived</th>\n",
              "      <th>Age_mean</th>\n",
              "      <th>Age_median</th>\n",
              "      <th>Fare_mean</th>\n",
              "      <th>Fare_median</th>\n",
              "      <th>Age_1</th>\n",
              "      <th>Age_2</th>\n",
              "      <th>Fare_1</th>\n",
              "      <th>Fare_2</th>\n",
              "      <th>Age_imputed</th>\n",
              "      <th>Fare_imputed</th>\n",
              "    </tr>\n",
              "  </thead>\n",
              "  <tbody>\n",
              "    <tr>\n",
              "      <th>0</th>\n",
              "      <td>22.0</td>\n",
              "      <td>7.2500</td>\n",
              "      <td>0</td>\n",
              "      <td>22.000000</td>\n",
              "      <td>22.0</td>\n",
              "      <td>7.250000</td>\n",
              "      <td>7.2500</td>\n",
              "      <td>22.0</td>\n",
              "      <td>22.0</td>\n",
              "      <td>7.2500</td>\n",
              "      <td>7.2500</td>\n",
              "      <td>22.0</td>\n",
              "      <td>7.2500</td>\n",
              "    </tr>\n",
              "    <tr>\n",
              "      <th>1</th>\n",
              "      <td>38.0</td>\n",
              "      <td>NaN</td>\n",
              "      <td>1</td>\n",
              "      <td>38.000000</td>\n",
              "      <td>38.0</td>\n",
              "      <td>29.699118</td>\n",
              "      <td>28.0000</td>\n",
              "      <td>38.0</td>\n",
              "      <td>38.0</td>\n",
              "      <td>-5.0000</td>\n",
              "      <td>60.0000</td>\n",
              "      <td>38.0</td>\n",
              "      <td>79.6500</td>\n",
              "    </tr>\n",
              "    <tr>\n",
              "      <th>2</th>\n",
              "      <td>26.0</td>\n",
              "      <td>7.9250</td>\n",
              "      <td>1</td>\n",
              "      <td>26.000000</td>\n",
              "      <td>26.0</td>\n",
              "      <td>7.925000</td>\n",
              "      <td>7.9250</td>\n",
              "      <td>26.0</td>\n",
              "      <td>26.0</td>\n",
              "      <td>7.9250</td>\n",
              "      <td>7.9250</td>\n",
              "      <td>26.0</td>\n",
              "      <td>7.9250</td>\n",
              "    </tr>\n",
              "    <tr>\n",
              "      <th>3</th>\n",
              "      <td>35.0</td>\n",
              "      <td>53.1000</td>\n",
              "      <td>1</td>\n",
              "      <td>35.000000</td>\n",
              "      <td>35.0</td>\n",
              "      <td>53.100000</td>\n",
              "      <td>53.1000</td>\n",
              "      <td>35.0</td>\n",
              "      <td>35.0</td>\n",
              "      <td>53.1000</td>\n",
              "      <td>53.1000</td>\n",
              "      <td>35.0</td>\n",
              "      <td>53.1000</td>\n",
              "    </tr>\n",
              "    <tr>\n",
              "      <th>4</th>\n",
              "      <td>35.0</td>\n",
              "      <td>8.0500</td>\n",
              "      <td>0</td>\n",
              "      <td>35.000000</td>\n",
              "      <td>35.0</td>\n",
              "      <td>8.050000</td>\n",
              "      <td>8.0500</td>\n",
              "      <td>35.0</td>\n",
              "      <td>35.0</td>\n",
              "      <td>8.0500</td>\n",
              "      <td>8.0500</td>\n",
              "      <td>35.0</td>\n",
              "      <td>8.0500</td>\n",
              "    </tr>\n",
              "    <tr>\n",
              "      <th>5</th>\n",
              "      <td>NaN</td>\n",
              "      <td>8.4583</td>\n",
              "      <td>0</td>\n",
              "      <td>29.699118</td>\n",
              "      <td>28.0</td>\n",
              "      <td>8.458300</td>\n",
              "      <td>8.4583</td>\n",
              "      <td>-5.0</td>\n",
              "      <td>60.0</td>\n",
              "      <td>8.4583</td>\n",
              "      <td>8.4583</td>\n",
              "      <td>38.0</td>\n",
              "      <td>8.4583</td>\n",
              "    </tr>\n",
              "    <tr>\n",
              "      <th>6</th>\n",
              "      <td>54.0</td>\n",
              "      <td>51.8625</td>\n",
              "      <td>0</td>\n",
              "      <td>54.000000</td>\n",
              "      <td>54.0</td>\n",
              "      <td>51.862500</td>\n",
              "      <td>51.8625</td>\n",
              "      <td>54.0</td>\n",
              "      <td>54.0</td>\n",
              "      <td>51.8625</td>\n",
              "      <td>51.8625</td>\n",
              "      <td>54.0</td>\n",
              "      <td>51.8625</td>\n",
              "    </tr>\n",
              "    <tr>\n",
              "      <th>7</th>\n",
              "      <td>2.0</td>\n",
              "      <td>21.0750</td>\n",
              "      <td>0</td>\n",
              "      <td>2.000000</td>\n",
              "      <td>2.0</td>\n",
              "      <td>21.075000</td>\n",
              "      <td>21.0750</td>\n",
              "      <td>2.0</td>\n",
              "      <td>2.0</td>\n",
              "      <td>21.0750</td>\n",
              "      <td>21.0750</td>\n",
              "      <td>2.0</td>\n",
              "      <td>21.0750</td>\n",
              "    </tr>\n",
              "    <tr>\n",
              "      <th>8</th>\n",
              "      <td>27.0</td>\n",
              "      <td>11.1333</td>\n",
              "      <td>1</td>\n",
              "      <td>27.000000</td>\n",
              "      <td>27.0</td>\n",
              "      <td>11.133300</td>\n",
              "      <td>11.1333</td>\n",
              "      <td>27.0</td>\n",
              "      <td>27.0</td>\n",
              "      <td>11.1333</td>\n",
              "      <td>11.1333</td>\n",
              "      <td>27.0</td>\n",
              "      <td>11.1333</td>\n",
              "    </tr>\n",
              "    <tr>\n",
              "      <th>9</th>\n",
              "      <td>14.0</td>\n",
              "      <td>30.0708</td>\n",
              "      <td>1</td>\n",
              "      <td>14.000000</td>\n",
              "      <td>14.0</td>\n",
              "      <td>30.070800</td>\n",
              "      <td>30.0708</td>\n",
              "      <td>14.0</td>\n",
              "      <td>14.0</td>\n",
              "      <td>30.0708</td>\n",
              "      <td>30.0708</td>\n",
              "      <td>14.0</td>\n",
              "      <td>30.0708</td>\n",
              "    </tr>\n",
              "  </tbody>\n",
              "</table>\n",
              "</div>\n",
              "      <button class=\"colab-df-convert\" onclick=\"convertToInteractive('df-e9e001a4-4945-4806-943d-bdd8f46af16e')\"\n",
              "              title=\"Convert this dataframe to an interactive table.\"\n",
              "              style=\"display:none;\">\n",
              "        \n",
              "  <svg xmlns=\"http://www.w3.org/2000/svg\" height=\"24px\"viewBox=\"0 0 24 24\"\n",
              "       width=\"24px\">\n",
              "    <path d=\"M0 0h24v24H0V0z\" fill=\"none\"/>\n",
              "    <path d=\"M18.56 5.44l.94 2.06.94-2.06 2.06-.94-2.06-.94-.94-2.06-.94 2.06-2.06.94zm-11 1L8.5 8.5l.94-2.06 2.06-.94-2.06-.94L8.5 2.5l-.94 2.06-2.06.94zm10 10l.94 2.06.94-2.06 2.06-.94-2.06-.94-.94-2.06-.94 2.06-2.06.94z\"/><path d=\"M17.41 7.96l-1.37-1.37c-.4-.4-.92-.59-1.43-.59-.52 0-1.04.2-1.43.59L10.3 9.45l-7.72 7.72c-.78.78-.78 2.05 0 2.83L4 21.41c.39.39.9.59 1.41.59.51 0 1.02-.2 1.41-.59l7.78-7.78 2.81-2.81c.8-.78.8-2.07 0-2.86zM5.41 20L4 18.59l7.72-7.72 1.47 1.35L5.41 20z\"/>\n",
              "  </svg>\n",
              "      </button>\n",
              "      \n",
              "  <style>\n",
              "    .colab-df-container {\n",
              "      display:flex;\n",
              "      flex-wrap:wrap;\n",
              "      gap: 12px;\n",
              "    }\n",
              "\n",
              "    .colab-df-convert {\n",
              "      background-color: #E8F0FE;\n",
              "      border: none;\n",
              "      border-radius: 50%;\n",
              "      cursor: pointer;\n",
              "      display: none;\n",
              "      fill: #1967D2;\n",
              "      height: 32px;\n",
              "      padding: 0 0 0 0;\n",
              "      width: 32px;\n",
              "    }\n",
              "\n",
              "    .colab-df-convert:hover {\n",
              "      background-color: #E2EBFA;\n",
              "      box-shadow: 0px 1px 2px rgba(60, 64, 67, 0.3), 0px 1px 3px 1px rgba(60, 64, 67, 0.15);\n",
              "      fill: #174EA6;\n",
              "    }\n",
              "\n",
              "    [theme=dark] .colab-df-convert {\n",
              "      background-color: #3B4455;\n",
              "      fill: #D2E3FC;\n",
              "    }\n",
              "\n",
              "    [theme=dark] .colab-df-convert:hover {\n",
              "      background-color: #434B5C;\n",
              "      box-shadow: 0px 1px 3px 1px rgba(0, 0, 0, 0.15);\n",
              "      filter: drop-shadow(0px 1px 2px rgba(0, 0, 0, 0.3));\n",
              "      fill: #FFFFFF;\n",
              "    }\n",
              "  </style>\n",
              "\n",
              "      <script>\n",
              "        const buttonEl =\n",
              "          document.querySelector('#df-e9e001a4-4945-4806-943d-bdd8f46af16e button.colab-df-convert');\n",
              "        buttonEl.style.display =\n",
              "          google.colab.kernel.accessAllowed ? 'block' : 'none';\n",
              "\n",
              "        async function convertToInteractive(key) {\n",
              "          const element = document.querySelector('#df-e9e001a4-4945-4806-943d-bdd8f46af16e');\n",
              "          const dataTable =\n",
              "            await google.colab.kernel.invokeFunction('convertToInteractive',\n",
              "                                                     [key], {});\n",
              "          if (!dataTable) return;\n",
              "\n",
              "          const docLinkHtml = 'Like what you see? Visit the ' +\n",
              "            '<a target=\"_blank\" href=https://colab.research.google.com/notebooks/data_table.ipynb>data table notebook</a>'\n",
              "            + ' to learn more about interactive tables.';\n",
              "          element.innerHTML = '';\n",
              "          dataTable['output_type'] = 'display_data';\n",
              "          await google.colab.output.renderOutput(dataTable, element);\n",
              "          const docLink = document.createElement('div');\n",
              "          docLink.innerHTML = docLinkHtml;\n",
              "          element.appendChild(docLink);\n",
              "        }\n",
              "      </script>\n",
              "    </div>\n",
              "  </div>\n",
              "  "
            ]
          },
          "metadata": {},
          "execution_count": 28
        }
      ]
    },
    {
      "cell_type": "code",
      "source": [
        "plot_dist('Age','Age','Age_imputed','Age','Age','Age_imputed')"
      ],
      "metadata": {
        "colab": {
          "base_uri": "https://localhost:8080/",
          "height": 334
        },
        "id": "KlBcSk7UC8C9",
        "outputId": "105c9ce8-7ff6-4008-dcbb-2d1ee0511d2d"
      },
      "execution_count": 29,
      "outputs": [
        {
          "output_type": "display_data",
          "data": {
            "text/plain": [
              "<Figure size 576x360 with 1 Axes>"
            ],
            "image/png": "[encoded data removed]"
          },
          "metadata": {
            "needs_background": "light"
          }
        }
      ]
    },
    {
      "cell_type": "code",
      "source": [
        "plot_dist('Fare','Fare','Fare_imputed','Fare','Fare','Fare_imputed')"
      ],
      "metadata": {
        "colab": {
          "base_uri": "https://localhost:8080/",
          "height": 334
        },
        "id": "Fk405iR6JMTL",
        "outputId": "0ce522df-257b-462c-d577-47457fc63b01"
      },
      "execution_count": 30,
      "outputs": [
        {
          "output_type": "display_data",
          "data": {
            "text/plain": [
              "<Figure size 576x360 with 1 Axes>"
            ],
            "image/png": "[encoded data removed]"
          },
          "metadata": {
            "needs_background": "light"
          }
        }
      ]
    },
    {
      "cell_type": "markdown",
      "source": [
        "## **Categorical values**"
      ],
      "metadata": {
        "id": "GJR53WNUmAcc"
      }
    },
    {
      "cell_type": "markdown",
      "source": [
        "## **Imputation with mode**\n",
        "* **Can't be used in case of high percentage of missing values**"
      ],
      "metadata": {
        "id": "AeokIy5KmDhM"
      }
    },
    {
      "cell_type": "code",
      "source": [
        "df = pd.read_csv('house_price.csv')"
      ],
      "metadata": {
        "id": "Hmiw8WG0pGKH"
      },
      "execution_count": 35,
      "outputs": []
    },
    {
      "cell_type": "code",
      "source": [
        "df.head(4)"
      ],
      "metadata": {
        "colab": {
          "base_uri": "https://localhost:8080/",
          "height": 286
        },
        "id": "srYdL40WpN5j",
        "outputId": "7a35c89c-c721-469a-f9a3-099a357ca4db"
      },
      "execution_count": 36,
      "outputs": [
        {
          "output_type": "execute_result",
          "data": {
            "text/plain": [
              "   Unnamed: 0  Id  MSSubClass MSZoning  LotFrontage  LotArea Street Alley  \\\n",
              "0           0   1          60       RL         65.0     8450   Pave   NaN   \n",
              "1           1   2          20       RL         80.0     9600   Pave   NaN   \n",
              "2           2   3          60       RL         68.0    11250   Pave   NaN   \n",
              "3           3   4          70       RL         60.0     9550   Pave   NaN   \n",
              "\n",
              "  LotShape LandContour  ... PoolArea PoolQC Fence MiscFeature MiscVal MoSold  \\\n",
              "0      Reg         Lvl  ...        0    NaN   NaN         NaN       0      2   \n",
              "1      Reg         Lvl  ...        0    NaN   NaN         NaN       0      5   \n",
              "2      IR1         Lvl  ...        0    NaN   NaN         NaN       0      9   \n",
              "3      IR1         Lvl  ...        0    NaN   NaN         NaN       0      2   \n",
              "\n",
              "  YrSold SaleType  SaleCondition  SalePrice  \n",
              "0   2008       WD         Normal     208500  \n",
              "1   2007       WD         Normal     181500  \n",
              "2   2008       WD         Normal     223500  \n",
              "3   2006       WD        Abnorml     140000  \n",
              "\n",
              "[4 rows x 82 columns]"
            ],
            "text/html": [
              "\n",
              "  <div id=\"df-c76f4eb3-6db9-4f3f-967a-91eb98d9454c\">\n",
              "    <div class=\"colab-df-container\">\n",
              "      <div>\n",
              "<style scoped>\n",
              "    .dataframe tbody tr th:only-of-type {\n",
              "        vertical-align: middle;\n",
              "    }\n",
              "\n",
              "    .dataframe tbody tr th {\n",
              "        vertical-align: top;\n",
              "    }\n",
              "\n",
              "    .dataframe thead th {\n",
              "        text-align: right;\n",
              "    }\n",
              "</style>\n",
              "<table border=\"1\" class=\"dataframe\">\n",
              "  <thead>\n",
              "    <tr style=\"text-align: right;\">\n",
              "      <th></th>\n",
              "      <th>Unnamed: 0</th>\n",
              "      <th>Id</th>\n",
              "      <th>MSSubClass</th>\n",
              "      <th>MSZoning</th>\n",
              "      <th>LotFrontage</th>\n",
              "      <th>LotArea</th>\n",
              "      <th>Street</th>\n",
              "      <th>Alley</th>\n",
              "      <th>LotShape</th>\n",
              "      <th>LandContour</th>\n",
              "      <th>...</th>\n",
              "      <th>PoolArea</th>\n",
              "      <th>PoolQC</th>\n",
              "      <th>Fence</th>\n",
              "      <th>MiscFeature</th>\n",
              "      <th>MiscVal</th>\n",
              "      <th>MoSold</th>\n",
              "      <th>YrSold</th>\n",
              "      <th>SaleType</th>\n",
              "      <th>SaleCondition</th>\n",
              "      <th>SalePrice</th>\n",
              "    </tr>\n",
              "  </thead>\n",
              "  <tbody>\n",
              "    <tr>\n",
              "      <th>0</th>\n",
              "      <td>0</td>\n",
              "      <td>1</td>\n",
              "      <td>60</td>\n",
              "      <td>RL</td>\n",
              "      <td>65.0</td>\n",
              "      <td>8450</td>\n",
              "      <td>Pave</td>\n",
              "      <td>NaN</td>\n",
              "      <td>Reg</td>\n",
              "      <td>Lvl</td>\n",
              "      <td>...</td>\n",
              "      <td>0</td>\n",
              "      <td>NaN</td>\n",
              "      <td>NaN</td>\n",
              "      <td>NaN</td>\n",
              "      <td>0</td>\n",
              "      <td>2</td>\n",
              "      <td>2008</td>\n",
              "      <td>WD</td>\n",
              "      <td>Normal</td>\n",
              "      <td>208500</td>\n",
              "    </tr>\n",
              "    <tr>\n",
              "      <th>1</th>\n",
              "      <td>1</td>\n",
              "      <td>2</td>\n",
              "      <td>20</td>\n",
              "      <td>RL</td>\n",
              "      <td>80.0</td>\n",
              "      <td>9600</td>\n",
              "      <td>Pave</td>\n",
              "      <td>NaN</td>\n",
              "      <td>Reg</td>\n",
              "      <td>Lvl</td>\n",
              "      <td>...</td>\n",
              "      <td>0</td>\n",
              "      <td>NaN</td>\n",
              "      <td>NaN</td>\n",
              "      <td>NaN</td>\n",
              "      <td>0</td>\n",
              "      <td>5</td>\n",
              "      <td>2007</td>\n",
              "      <td>WD</td>\n",
              "      <td>Normal</td>\n",
              "      <td>181500</td>\n",
              "    </tr>\n",
              "    <tr>\n",
              "      <th>2</th>\n",
              "      <td>2</td>\n",
              "      <td>3</td>\n",
              "      <td>60</td>\n",
              "      <td>RL</td>\n",
              "      <td>68.0</td>\n",
              "      <td>11250</td>\n",
              "      <td>Pave</td>\n",
              "      <td>NaN</td>\n",
              "      <td>IR1</td>\n",
              "      <td>Lvl</td>\n",
              "      <td>...</td>\n",
              "      <td>0</td>\n",
              "      <td>NaN</td>\n",
              "      <td>NaN</td>\n",
              "      <td>NaN</td>\n",
              "      <td>0</td>\n",
              "      <td>9</td>\n",
              "      <td>2008</td>\n",
              "      <td>WD</td>\n",
              "      <td>Normal</td>\n",
              "      <td>223500</td>\n",
              "    </tr>\n",
              "    <tr>\n",
              "      <th>3</th>\n",
              "      <td>3</td>\n",
              "      <td>4</td>\n",
              "      <td>70</td>\n",
              "      <td>RL</td>\n",
              "      <td>60.0</td>\n",
              "      <td>9550</td>\n",
              "      <td>Pave</td>\n",
              "      <td>NaN</td>\n",
              "      <td>IR1</td>\n",
              "      <td>Lvl</td>\n",
              "      <td>...</td>\n",
              "      <td>0</td>\n",
              "      <td>NaN</td>\n",
              "      <td>NaN</td>\n",
              "      <td>NaN</td>\n",
              "      <td>0</td>\n",
              "      <td>2</td>\n",
              "      <td>2006</td>\n",
              "      <td>WD</td>\n",
              "      <td>Abnorml</td>\n",
              "      <td>140000</td>\n",
              "    </tr>\n",
              "  </tbody>\n",
              "</table>\n",
              "<p>4 rows × 82 columns</p>\n",
              "</div>\n",
              "      <button class=\"colab-df-convert\" onclick=\"convertToInteractive('df-c76f4eb3-6db9-4f3f-967a-91eb98d9454c')\"\n",
              "              title=\"Convert this dataframe to an interactive table.\"\n",
              "              style=\"display:none;\">\n",
              "        \n",
              "  <svg xmlns=\"http://www.w3.org/2000/svg\" height=\"24px\"viewBox=\"0 0 24 24\"\n",
              "       width=\"24px\">\n",
              "    <path d=\"M0 0h24v24H0V0z\" fill=\"none\"/>\n",
              "    <path d=\"M18.56 5.44l.94 2.06.94-2.06 2.06-.94-2.06-.94-.94-2.06-.94 2.06-2.06.94zm-11 1L8.5 8.5l.94-2.06 2.06-.94-2.06-.94L8.5 2.5l-.94 2.06-2.06.94zm10 10l.94 2.06.94-2.06 2.06-.94-2.06-.94-.94-2.06-.94 2.06-2.06.94z\"/><path d=\"M17.41 7.96l-1.37-1.37c-.4-.4-.92-.59-1.43-.59-.52 0-1.04.2-1.43.59L10.3 9.45l-7.72 7.72c-.78.78-.78 2.05 0 2.83L4 21.41c.39.39.9.59 1.41.59.51 0 1.02-.2 1.41-.59l7.78-7.78 2.81-2.81c.8-.78.8-2.07 0-2.86zM5.41 20L4 18.59l7.72-7.72 1.47 1.35L5.41 20z\"/>\n",
              "  </svg>\n",
              "      </button>\n",
              "      \n",
              "  <style>\n",
              "    .colab-df-container {\n",
              "      display:flex;\n",
              "      flex-wrap:wrap;\n",
              "      gap: 12px;\n",
              "    }\n",
              "\n",
              "    .colab-df-convert {\n",
              "      background-color: #E8F0FE;\n",
              "      border: none;\n",
              "      border-radius: 50%;\n",
              "      cursor: pointer;\n",
              "      display: none;\n",
              "      fill: #1967D2;\n",
              "      height: 32px;\n",
              "      padding: 0 0 0 0;\n",
              "      width: 32px;\n",
              "    }\n",
              "\n",
              "    .colab-df-convert:hover {\n",
              "      background-color: #E2EBFA;\n",
              "      box-shadow: 0px 1px 2px rgba(60, 64, 67, 0.3), 0px 1px 3px 1px rgba(60, 64, 67, 0.15);\n",
              "      fill: #174EA6;\n",
              "    }\n",
              "\n",
              "    [theme=dark] .colab-df-convert {\n",
              "      background-color: #3B4455;\n",
              "      fill: #D2E3FC;\n",
              "    }\n",
              "\n",
              "    [theme=dark] .colab-df-convert:hover {\n",
              "      background-color: #434B5C;\n",
              "      box-shadow: 0px 1px 3px 1px rgba(0, 0, 0, 0.15);\n",
              "      filter: drop-shadow(0px 1px 2px rgba(0, 0, 0, 0.3));\n",
              "      fill: #FFFFFF;\n",
              "    }\n",
              "  </style>\n",
              "\n",
              "      <script>\n",
              "        const buttonEl =\n",
              "          document.querySelector('#df-c76f4eb3-6db9-4f3f-967a-91eb98d9454c button.colab-df-convert');\n",
              "        buttonEl.style.display =\n",
              "          google.colab.kernel.accessAllowed ? 'block' : 'none';\n",
              "\n",
              "        async function convertToInteractive(key) {\n",
              "          const element = document.querySelector('#df-c76f4eb3-6db9-4f3f-967a-91eb98d9454c');\n",
              "          const dataTable =\n",
              "            await google.colab.kernel.invokeFunction('convertToInteractive',\n",
              "                                                     [key], {});\n",
              "          if (!dataTable) return;\n",
              "\n",
              "          const docLinkHtml = 'Like what you see? Visit the ' +\n",
              "            '<a target=\"_blank\" href=https://colab.research.google.com/notebooks/data_table.ipynb>data table notebook</a>'\n",
              "            + ' to learn more about interactive tables.';\n",
              "          element.innerHTML = '';\n",
              "          dataTable['output_type'] = 'display_data';\n",
              "          await google.colab.output.renderOutput(dataTable, element);\n",
              "          const docLink = document.createElement('div');\n",
              "          docLink.innerHTML = docLinkHtml;\n",
              "          element.appendChild(docLink);\n",
              "        }\n",
              "      </script>\n",
              "    </div>\n",
              "  </div>\n",
              "  "
            ]
          },
          "metadata": {},
          "execution_count": 36
        }
      ]
    },
    {
      "cell_type": "code",
      "source": [
        "df = df[['GarageQual','FireplaceQu','SalePrice']]"
      ],
      "metadata": {
        "id": "TqYqy5UKpPXb"
      },
      "execution_count": 37,
      "outputs": []
    },
    {
      "cell_type": "code",
      "source": [
        "df.isnull().mean()"
      ],
      "metadata": {
        "colab": {
          "base_uri": "https://localhost:8080/"
        },
        "id": "qjahgq1tpp1J",
        "outputId": "bb9b985d-a0dc-45f0-fa8d-d1867718c5d3"
      },
      "execution_count": 38,
      "outputs": [
        {
          "output_type": "execute_result",
          "data": {
            "text/plain": [
              "GarageQual     0.055479\n",
              "FireplaceQu    0.472603\n",
              "SalePrice      0.000000\n",
              "dtype: float64"
            ]
          },
          "metadata": {},
          "execution_count": 38
        }
      ]
    },
    {
      "cell_type": "markdown",
      "source": [
        "**Bar plot of Garage quality data**"
      ],
      "metadata": {
        "id": "OhwVVyUPqD1T"
      }
    },
    {
      "cell_type": "code",
      "source": [
        "df['GarageQual'].value_counts().sort_values(ascending=False).plot.bar()"
      ],
      "metadata": {
        "colab": {
          "base_uri": "https://localhost:8080/",
          "height": 286
        },
        "id": "bVTOqnR4pt8S",
        "outputId": "a58d389b-5871-44c9-9373-2838dce85beb"
      },
      "execution_count": 39,
      "outputs": [
        {
          "output_type": "execute_result",
          "data": {
            "text/plain": [
              "<matplotlib.axes._subplots.AxesSubplot at 0x7fd5a6258410>"
            ]
          },
          "metadata": {},
          "execution_count": 39
        },
        {
          "output_type": "display_data",
          "data": {
            "text/plain": [
              "<Figure size 432x288 with 1 Axes>"
            ],
            "image/png": "[encoded data removed]"
          },
          "metadata": {
            "needs_background": "light"
          }
        }
      ]
    },
    {
      "cell_type": "markdown",
      "source": [
        "#### **Replacing GarageQual missing values with mode and observing the change in distribution**\n",
        "\n",
        "**Before imputation:**"
      ],
      "metadata": {
        "id": "aglShSf3qTzv"
      }
    },
    {
      "cell_type": "code",
      "source": [
        "fig = plt.figure(figsize=(10,7))\n",
        "ax = fig.add_subplot(111)\n",
        "\n",
        "df[df['GarageQual']=='TA']['SalePrice'].plot(kind='kde',ax=ax)\n",
        "df[df['GarageQual'].isnull()]['SalePrice'].plot(kind='kde',ax=ax,color='red')\n",
        "\n",
        "lines,labels = ax.get_legend_handles_labels()\n",
        "labels = ['Houses with TA','Houses with NA']\n",
        "ax.legend(lines,labels,loc = 'best')\n",
        "\n",
        "plt.title('GarageQual')\n",
        "plt.show()"
      ],
      "metadata": {
        "colab": {
          "base_uri": "https://localhost:8080/",
          "height": 457
        },
        "id": "oP29nx7HqBUz",
        "outputId": "64a3d52c-568e-45cc-d0af-009bfeff23d8"
      },
      "execution_count": 40,
      "outputs": [
        {
          "output_type": "display_data",
          "data": {
            "text/plain": [
              "<Figure size 720x504 with 1 Axes>"
            ],
            "image/png": "[encoded data removed]"
          },
          "metadata": {
            "needs_background": "light"
          }
        }
      ]
    },
    {
      "cell_type": "code",
      "source": [
        "original_col = df[df['GarageQual']=='TA']['SalePrice']"
      ],
      "metadata": {
        "id": "pWYT7WdFrori"
      },
      "execution_count": 41,
      "outputs": []
    },
    {
      "cell_type": "code",
      "source": [
        "df['GarageQual'].fillna('TA',inplace=True)"
      ],
      "metadata": {
        "id": "JtChF9ZpsXdV"
      },
      "execution_count": 42,
      "outputs": []
    },
    {
      "cell_type": "markdown",
      "source": [
        "**After imputation:**"
      ],
      "metadata": {
        "id": "p76mGzqJshVD"
      }
    },
    {
      "cell_type": "code",
      "source": [
        "fig = plt.figure(figsize=(10,7))\n",
        "ax = fig.add_subplot(111)\n",
        "\n",
        "df[df['GarageQual']=='TA']['SalePrice'].plot(kind='kde',ax=ax,color='red')\n",
        "original_col.plot(kind='kde',ax=ax)\n",
        "\n",
        "lines,labels = ax.get_legend_handles_labels()\n",
        "labels = ['Houses with TA','After imputation']\n",
        "ax.legend(lines,labels,loc = 'best')\n",
        "\n",
        "plt.title('GarageQual')\n",
        "plt.show()"
      ],
      "metadata": {
        "colab": {
          "base_uri": "https://localhost:8080/",
          "height": 457
        },
        "id": "kK1pgmFOsgHT",
        "outputId": "a275279b-2c72-412a-b558-ddc22ad03546"
      },
      "execution_count": 44,
      "outputs": [
        {
          "output_type": "display_data",
          "data": {
            "text/plain": [
              "<Figure size 720x504 with 1 Axes>"
            ],
            "image/png": "[encoded data removed]"
          },
          "metadata": {
            "needs_background": "light"
          }
        }
      ]
    },
    {
      "cell_type": "markdown",
      "source": [
        "**Observation:** No significant change in distribution, as percentage of null values is less."
      ],
      "metadata": {
        "id": "q0YXudObs66E"
      }
    },
    {
      "cell_type": "markdown",
      "source": [
        "**Using scikit-learn**"
      ],
      "metadata": {
        "id": "dMU81IF8t33E"
      }
    },
    {
      "cell_type": "code",
      "source": [
        "from sklearn.model_selection import train_test_split\n",
        "X_train,X_test,Y_train,Y_test = train_test_split(df.drop(columns=['SalePrice']),df['SalePrice'],test_size=0.2)\n",
        "\n",
        "mode_imputer = SimpleImputer(strategy = 'most_frequent')\n",
        "X_train = mode_imputer.fit_transform(X_train)\n",
        "X_test = mode_imputer.transform(X_test)"
      ],
      "metadata": {
        "id": "9R5-pWy5sxxX"
      },
      "execution_count": 45,
      "outputs": []
    },
    {
      "cell_type": "code",
      "source": [
        "mode_imputer.statistics_"
      ],
      "metadata": {
        "colab": {
          "base_uri": "https://localhost:8080/"
        },
        "id": "W31pg8bevCnO",
        "outputId": "b9fb13fb-aaa0-42b6-d322-80abbb973337"
      },
      "execution_count": 46,
      "outputs": [
        {
          "output_type": "execute_result",
          "data": {
            "text/plain": [
              "array(['TA', 'Gd'], dtype=object)"
            ]
          },
          "metadata": {},
          "execution_count": 46
        }
      ]
    },
    {
      "cell_type": "markdown",
      "source": [
        "## **Missing category imputation**\n",
        "* **Can be used when percentage of missing values is high but not very effective**"
      ],
      "metadata": {
        "id": "TxiCRSvbveaT"
      }
    },
    {
      "cell_type": "code",
      "source": [
        "df = pd.read_csv('house_price.csv',usecols=['GarageQual','FireplaceQu','SalePrice'])\n",
        "\n",
        "df['GarageQual'].fillna('Missing',inplace=True)"
      ],
      "metadata": {
        "id": "OAgI6RxIvSx6"
      },
      "execution_count": 50,
      "outputs": []
    },
    {
      "cell_type": "code",
      "source": [
        "df['GarageQual'].value_counts().sort_values(ascending=False).plot.bar()"
      ],
      "metadata": {
        "colab": {
          "base_uri": "https://localhost:8080/",
          "height": 310
        },
        "id": "TqAwS6wQv7nQ",
        "outputId": "f78cea1e-f820-4aa0-a13b-e9013ab3bbfe"
      },
      "execution_count": 51,
      "outputs": [
        {
          "output_type": "execute_result",
          "data": {
            "text/plain": [
              "<matplotlib.axes._subplots.AxesSubplot at 0x7fd5a3f97410>"
            ]
          },
          "metadata": {},
          "execution_count": 51
        },
        {
          "output_type": "display_data",
          "data": {
            "text/plain": [
              "<Figure size 432x288 with 1 Axes>"
            ],
            "image/png": "[encoded data removed]"
          },
          "metadata": {
            "needs_background": "light"
          }
        }
      ]
    },
    {
      "cell_type": "markdown",
      "source": [
        "**Observation:** A new category \"Missing\" has been created."
      ],
      "metadata": {
        "id": "x1KFB1OVwgNQ"
      }
    },
    {
      "cell_type": "markdown",
      "source": [
        "## **Other imputation techniques**\n",
        "> * **Random imputation**\n",
        "* Missing indicator"
      ],
      "metadata": {
        "id": "JmGWqmLiyQ1f"
      }
    },
    {
      "cell_type": "markdown",
      "source": [
        "## **Random value imputation**\n",
        "* Easy to implement\n",
        "* Variance of data is retained due to randomness\n",
        "* Can be useful in case of linear models because they demand that normal distributions remain intact"
      ],
      "metadata": {
        "id": "kGJjT3z9ysSQ"
      }
    },
    {
      "cell_type": "markdown",
      "source": [
        "## **Missing Indicator**\n",
        "* **Create a new column which contains \"True\" corresponding to a missing data and \"False\" corresponding to an existing data**"
      ],
      "metadata": {
        "id": "aTWxW-GR1mLg"
      }
    },
    {
      "cell_type": "code",
      "source": [
        "df = pd.read_csv('titanic/train.csv',usecols=['Age','Fare','Survived'])\n",
        "X_train,X_test,Y_train,Y_test = train_test_split(df.drop(columns=['Survived']),df['Survived'],test_size=0.2)"
      ],
      "metadata": {
        "id": "Oj15lsjWwD-Q"
      },
      "execution_count": 52,
      "outputs": []
    },
    {
      "cell_type": "code",
      "source": [
        "from sklearn.impute import MissingIndicator"
      ],
      "metadata": {
        "id": "7PMiiEvf2nH4"
      },
      "execution_count": 53,
      "outputs": []
    },
    {
      "cell_type": "code",
      "source": [
        "mi = MissingIndicator()\n",
        "mi.fit(X_train)"
      ],
      "metadata": {
        "colab": {
          "base_uri": "https://localhost:8080/"
        },
        "id": "j9NDtJMj3MCy",
        "outputId": "9ec81090-831a-4314-ea0c-1e77a62eb2e9"
      },
      "execution_count": 54,
      "outputs": [
        {
          "output_type": "execute_result",
          "data": {
            "text/plain": [
              "MissingIndicator()"
            ]
          },
          "metadata": {},
          "execution_count": 54
        }
      ]
    },
    {
      "cell_type": "code",
      "source": [
        "X_train_missing = mi.transform(X_train)\n",
        "X_test_missing = mi.transform(X_test)"
      ],
      "metadata": {
        "id": "oCIcp4453Y20"
      },
      "execution_count": 56,
      "outputs": []
    },
    {
      "cell_type": "code",
      "source": [
        "X_train['Age_NA'] = X_train_missing\n",
        "X_test['Age_NA'] = X_test_missing"
      ],
      "metadata": {
        "id": "l56U0zPI3h6s"
      },
      "execution_count": 57,
      "outputs": []
    },
    {
      "cell_type": "code",
      "source": [
        "X_train.head()"
      ],
      "metadata": {
        "colab": {
          "base_uri": "https://localhost:8080/",
          "height": 206
        },
        "id": "_WUECgyC3rRO",
        "outputId": "a9cd123b-6b2f-4f87-d39f-2f26987ce889"
      },
      "execution_count": 58,
      "outputs": [
        {
          "output_type": "execute_result",
          "data": {
            "text/plain": [
              "      Age      Fare  Age_NA\n",
              "104  37.0    7.9250   False\n",
              "646  19.0    7.8958   False\n",
              "786  18.0    7.4958   False\n",
              "716  38.0  227.5250   False\n",
              "279  35.0   20.2500   False"
            ],
            "text/html": [
              "\n",
              "  <div id=\"df-38da8990-891c-4074-88f4-5d37e13021f1\">\n",
              "    <div class=\"colab-df-container\">\n",
              "      <div>\n",
              "<style scoped>\n",
              "    .dataframe tbody tr th:only-of-type {\n",
              "        vertical-align: middle;\n",
              "    }\n",
              "\n",
              "    .dataframe tbody tr th {\n",
              "        vertical-align: top;\n",
              "    }\n",
              "\n",
              "    .dataframe thead th {\n",
              "        text-align: right;\n",
              "    }\n",
              "</style>\n",
              "<table border=\"1\" class=\"dataframe\">\n",
              "  <thead>\n",
              "    <tr style=\"text-align: right;\">\n",
              "      <th></th>\n",
              "      <th>Age</th>\n",
              "      <th>Fare</th>\n",
              "      <th>Age_NA</th>\n",
              "    </tr>\n",
              "  </thead>\n",
              "  <tbody>\n",
              "    <tr>\n",
              "      <th>104</th>\n",
              "      <td>37.0</td>\n",
              "      <td>7.9250</td>\n",
              "      <td>False</td>\n",
              "    </tr>\n",
              "    <tr>\n",
              "      <th>646</th>\n",
              "      <td>19.0</td>\n",
              "      <td>7.8958</td>\n",
              "      <td>False</td>\n",
              "    </tr>\n",
              "    <tr>\n",
              "      <th>786</th>\n",
              "      <td>18.0</td>\n",
              "      <td>7.4958</td>\n",
              "      <td>False</td>\n",
              "    </tr>\n",
              "    <tr>\n",
              "      <th>716</th>\n",
              "      <td>38.0</td>\n",
              "      <td>227.5250</td>\n",
              "      <td>False</td>\n",
              "    </tr>\n",
              "    <tr>\n",
              "      <th>279</th>\n",
              "      <td>35.0</td>\n",
              "      <td>20.2500</td>\n",
              "      <td>False</td>\n",
              "    </tr>\n",
              "  </tbody>\n",
              "</table>\n",
              "</div>\n",
              "      <button class=\"colab-df-convert\" onclick=\"convertToInteractive('df-38da8990-891c-4074-88f4-5d37e13021f1')\"\n",
              "              title=\"Convert this dataframe to an interactive table.\"\n",
              "              style=\"display:none;\">\n",
              "        \n",
              "  <svg xmlns=\"http://www.w3.org/2000/svg\" height=\"24px\"viewBox=\"0 0 24 24\"\n",
              "       width=\"24px\">\n",
              "    <path d=\"M0 0h24v24H0V0z\" fill=\"none\"/>\n",
              "    <path d=\"M18.56 5.44l.94 2.06.94-2.06 2.06-.94-2.06-.94-.94-2.06-.94 2.06-2.06.94zm-11 1L8.5 8.5l.94-2.06 2.06-.94-2.06-.94L8.5 2.5l-.94 2.06-2.06.94zm10 10l.94 2.06.94-2.06 2.06-.94-2.06-.94-.94-2.06-.94 2.06-2.06.94z\"/><path d=\"M17.41 7.96l-1.37-1.37c-.4-.4-.92-.59-1.43-.59-.52 0-1.04.2-1.43.59L10.3 9.45l-7.72 7.72c-.78.78-.78 2.05 0 2.83L4 21.41c.39.39.9.59 1.41.59.51 0 1.02-.2 1.41-.59l7.78-7.78 2.81-2.81c.8-.78.8-2.07 0-2.86zM5.41 20L4 18.59l7.72-7.72 1.47 1.35L5.41 20z\"/>\n",
              "  </svg>\n",
              "      </button>\n",
              "      \n",
              "  <style>\n",
              "    .colab-df-container {\n",
              "      display:flex;\n",
              "      flex-wrap:wrap;\n",
              "      gap: 12px;\n",
              "    }\n",
              "\n",
              "    .colab-df-convert {\n",
              "      background-color: #E8F0FE;\n",
              "      border: none;\n",
              "      border-radius: 50%;\n",
              "      cursor: pointer;\n",
              "      display: none;\n",
              "      fill: #1967D2;\n",
              "      height: 32px;\n",
              "      padding: 0 0 0 0;\n",
              "      width: 32px;\n",
              "    }\n",
              "\n",
              "    .colab-df-convert:hover {\n",
              "      background-color: #E2EBFA;\n",
              "      box-shadow: 0px 1px 2px rgba(60, 64, 67, 0.3), 0px 1px 3px 1px rgba(60, 64, 67, 0.15);\n",
              "      fill: #174EA6;\n",
              "    }\n",
              "\n",
              "    [theme=dark] .colab-df-convert {\n",
              "      background-color: #3B4455;\n",
              "      fill: #D2E3FC;\n",
              "    }\n",
              "\n",
              "    [theme=dark] .colab-df-convert:hover {\n",
              "      background-color: #434B5C;\n",
              "      box-shadow: 0px 1px 3px 1px rgba(0, 0, 0, 0.15);\n",
              "      filter: drop-shadow(0px 1px 2px rgba(0, 0, 0, 0.3));\n",
              "      fill: #FFFFFF;\n",
              "    }\n",
              "  </style>\n",
              "\n",
              "      <script>\n",
              "        const buttonEl =\n",
              "          document.querySelector('#df-38da8990-891c-4074-88f4-5d37e13021f1 button.colab-df-convert');\n",
              "        buttonEl.style.display =\n",
              "          google.colab.kernel.accessAllowed ? 'block' : 'none';\n",
              "\n",
              "        async function convertToInteractive(key) {\n",
              "          const element = document.querySelector('#df-38da8990-891c-4074-88f4-5d37e13021f1');\n",
              "          const dataTable =\n",
              "            await google.colab.kernel.invokeFunction('convertToInteractive',\n",
              "                                                     [key], {});\n",
              "          if (!dataTable) return;\n",
              "\n",
              "          const docLinkHtml = 'Like what you see? Visit the ' +\n",
              "            '<a target=\"_blank\" href=https://colab.research.google.com/notebooks/data_table.ipynb>data table notebook</a>'\n",
              "            + ' to learn more about interactive tables.';\n",
              "          element.innerHTML = '';\n",
              "          dataTable['output_type'] = 'display_data';\n",
              "          await google.colab.output.renderOutput(dataTable, element);\n",
              "          const docLink = document.createElement('div');\n",
              "          docLink.innerHTML = docLinkHtml;\n",
              "          element.appendChild(docLink);\n",
              "        }\n",
              "      </script>\n",
              "    </div>\n",
              "  </div>\n",
              "  "
            ]
          },
          "metadata": {},
          "execution_count": 58
        }
      ]
    }
  ]
}