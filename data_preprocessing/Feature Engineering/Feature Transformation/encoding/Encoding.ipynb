{
  "nbformat": 4,
  "nbformat_minor": 0,
  "metadata": {
    "colab": {
      "name": "Encoding.ipynb",
      "provenance": [],
      "collapsed_sections": []
    },
    "kernelspec": {
      "name": "python3",
      "display_name": "Python 3"
    },
    "language_info": {
      "name": "python"
    }
  },
  "cells": [
    {
      "cell_type": "code",
      "execution_count": 96,
      "metadata": {
        "id": "hBEqFsZQyBQm"
      },
      "outputs": [],
      "source": [
        "import pandas as pd\n",
        "import numpy as np\n",
        "import matplotlib.pyplot as plt\n",
        "import seaborn as sns"
      ]
    },
    {
      "cell_type": "markdown",
      "source": [
        "# **Categorical data**\n",
        "\n",
        "Categorical variables are usually represented as ‘strings’ or ‘categories’ and are finite in number. \n",
        "we can see there are two kinds of categorical data-\n",
        "\n",
        "* **Ordinal Data**: The categories have an inherent order\n",
        "* **Nominal Data**: The categories do not have an inherent order\n",
        "\n",
        ">In Ordinal data, while encoding, one should retain the information regarding the order in which the category is provided. Like in the above example the highest degree a person possesses, gives vital information about his qualification. The degree is an important feature to decide whether a person is suitable for a post or not.\n",
        "\n",
        "> While encoding Nominal data, we have to consider the presence or absence of a feature. In such a case, no notion of order is present. For example, the city a person lives in. For the data, it is important to retain where a person lives. Here, We do not have any order or sequence."
      ],
      "metadata": {
        "id": "wYX74zImyZsf"
      }
    },
    {
      "cell_type": "markdown",
      "source": [
        "### **Dataset**"
      ],
      "metadata": {
        "id": "eIZ-okig1b5w"
      }
    },
    {
      "cell_type": "code",
      "source": [
        "df=pd.DataFrame({'Degree':['High school','Masters','Diploma','Bachelors','Bachelors','Masters','Phd','High school','High school']*100,'gender':['M','F','M','O','F','M','O','F','M']*100,'target':['B','N','S','B','N','S','B','N','B']*100})\n"
      ],
      "metadata": {
        "id": "yIQ767zLzrDn"
      },
      "execution_count": 97,
      "outputs": []
    },
    {
      "cell_type": "code",
      "source": [
        "df.head()"
      ],
      "metadata": {
        "colab": {
          "base_uri": "https://localhost:8080/",
          "height": 206
        },
        "id": "SbM75dBI0B3d",
        "outputId": "30a8fd20-e29f-498b-dee3-3cd20a392a6e"
      },
      "execution_count": 98,
      "outputs": [
        {
          "output_type": "execute_result",
          "data": {
            "text/plain": [
              "        Degree gender target\n",
              "0  High school      M      B\n",
              "1      Masters      F      N\n",
              "2      Diploma      M      S\n",
              "3    Bachelors      O      B\n",
              "4    Bachelors      F      N"
            ],
            "text/html": [
              "\n",
              "  <div id=\"df-9fc63b1c-4003-48b5-a73a-1b29fb3efac9\">\n",
              "    <div class=\"colab-df-container\">\n",
              "      <div>\n",
              "<style scoped>\n",
              "    .dataframe tbody tr th:only-of-type {\n",
              "        vertical-align: middle;\n",
              "    }\n",
              "\n",
              "    .dataframe tbody tr th {\n",
              "        vertical-align: top;\n",
              "    }\n",
              "\n",
              "    .dataframe thead th {\n",
              "        text-align: right;\n",
              "    }\n",
              "</style>\n",
              "<table border=\"1\" class=\"dataframe\">\n",
              "  <thead>\n",
              "    <tr style=\"text-align: right;\">\n",
              "      <th></th>\n",
              "      <th>Degree</th>\n",
              "      <th>gender</th>\n",
              "      <th>target</th>\n",
              "    </tr>\n",
              "  </thead>\n",
              "  <tbody>\n",
              "    <tr>\n",
              "      <th>0</th>\n",
              "      <td>High school</td>\n",
              "      <td>M</td>\n",
              "      <td>B</td>\n",
              "    </tr>\n",
              "    <tr>\n",
              "      <th>1</th>\n",
              "      <td>Masters</td>\n",
              "      <td>F</td>\n",
              "      <td>N</td>\n",
              "    </tr>\n",
              "    <tr>\n",
              "      <th>2</th>\n",
              "      <td>Diploma</td>\n",
              "      <td>M</td>\n",
              "      <td>S</td>\n",
              "    </tr>\n",
              "    <tr>\n",
              "      <th>3</th>\n",
              "      <td>Bachelors</td>\n",
              "      <td>O</td>\n",
              "      <td>B</td>\n",
              "    </tr>\n",
              "    <tr>\n",
              "      <th>4</th>\n",
              "      <td>Bachelors</td>\n",
              "      <td>F</td>\n",
              "      <td>N</td>\n",
              "    </tr>\n",
              "  </tbody>\n",
              "</table>\n",
              "</div>\n",
              "      <button class=\"colab-df-convert\" onclick=\"convertToInteractive('df-9fc63b1c-4003-48b5-a73a-1b29fb3efac9')\"\n",
              "              title=\"Convert this dataframe to an interactive table.\"\n",
              "              style=\"display:none;\">\n",
              "        \n",
              "  <svg xmlns=\"http://www.w3.org/2000/svg\" height=\"24px\"viewBox=\"0 0 24 24\"\n",
              "       width=\"24px\">\n",
              "    <path d=\"M0 0h24v24H0V0z\" fill=\"none\"/>\n",
              "    <path d=\"M18.56 5.44l.94 2.06.94-2.06 2.06-.94-2.06-.94-.94-2.06-.94 2.06-2.06.94zm-11 1L8.5 8.5l.94-2.06 2.06-.94-2.06-.94L8.5 2.5l-.94 2.06-2.06.94zm10 10l.94 2.06.94-2.06 2.06-.94-2.06-.94-.94-2.06-.94 2.06-2.06.94z\"/><path d=\"M17.41 7.96l-1.37-1.37c-.4-.4-.92-.59-1.43-.59-.52 0-1.04.2-1.43.59L10.3 9.45l-7.72 7.72c-.78.78-.78 2.05 0 2.83L4 21.41c.39.39.9.59 1.41.59.51 0 1.02-.2 1.41-.59l7.78-7.78 2.81-2.81c.8-.78.8-2.07 0-2.86zM5.41 20L4 18.59l7.72-7.72 1.47 1.35L5.41 20z\"/>\n",
              "  </svg>\n",
              "      </button>\n",
              "      \n",
              "  <style>\n",
              "    .colab-df-container {\n",
              "      display:flex;\n",
              "      flex-wrap:wrap;\n",
              "      gap: 12px;\n",
              "    }\n",
              "\n",
              "    .colab-df-convert {\n",
              "      background-color: #E8F0FE;\n",
              "      border: none;\n",
              "      border-radius: 50%;\n",
              "      cursor: pointer;\n",
              "      display: none;\n",
              "      fill: #1967D2;\n",
              "      height: 32px;\n",
              "      padding: 0 0 0 0;\n",
              "      width: 32px;\n",
              "    }\n",
              "\n",
              "    .colab-df-convert:hover {\n",
              "      background-color: #E2EBFA;\n",
              "      box-shadow: 0px 1px 2px rgba(60, 64, 67, 0.3), 0px 1px 3px 1px rgba(60, 64, 67, 0.15);\n",
              "      fill: #174EA6;\n",
              "    }\n",
              "\n",
              "    [theme=dark] .colab-df-convert {\n",
              "      background-color: #3B4455;\n",
              "      fill: #D2E3FC;\n",
              "    }\n",
              "\n",
              "    [theme=dark] .colab-df-convert:hover {\n",
              "      background-color: #434B5C;\n",
              "      box-shadow: 0px 1px 3px 1px rgba(0, 0, 0, 0.15);\n",
              "      filter: drop-shadow(0px 1px 2px rgba(0, 0, 0, 0.3));\n",
              "      fill: #FFFFFF;\n",
              "    }\n",
              "  </style>\n",
              "\n",
              "      <script>\n",
              "        const buttonEl =\n",
              "          document.querySelector('#df-9fc63b1c-4003-48b5-a73a-1b29fb3efac9 button.colab-df-convert');\n",
              "        buttonEl.style.display =\n",
              "          google.colab.kernel.accessAllowed ? 'block' : 'none';\n",
              "\n",
              "        async function convertToInteractive(key) {\n",
              "          const element = document.querySelector('#df-9fc63b1c-4003-48b5-a73a-1b29fb3efac9');\n",
              "          const dataTable =\n",
              "            await google.colab.kernel.invokeFunction('convertToInteractive',\n",
              "                                                     [key], {});\n",
              "          if (!dataTable) return;\n",
              "\n",
              "          const docLinkHtml = 'Like what you see? Visit the ' +\n",
              "            '<a target=\"_blank\" href=https://colab.research.google.com/notebooks/data_table.ipynb>data table notebook</a>'\n",
              "            + ' to learn more about interactive tables.';\n",
              "          element.innerHTML = '';\n",
              "          dataTable['output_type'] = 'display_data';\n",
              "          await google.colab.output.renderOutput(dataTable, element);\n",
              "          const docLink = document.createElement('div');\n",
              "          docLink.innerHTML = docLinkHtml;\n",
              "          element.appendChild(docLink);\n",
              "        }\n",
              "      </script>\n",
              "    </div>\n",
              "  </div>\n",
              "  "
            ]
          },
          "metadata": {},
          "execution_count": 98
        }
      ]
    },
    {
      "cell_type": "code",
      "source": [
        "from sklearn.model_selection import train_test_split\n",
        "X_train,X_test,Y_train,Y_test = train_test_split(df.drop('target',axis=1),df['target'],test_size=0.3,random_state=42)\n",
        "X_train,X_test,Y_train,Y_test = pd.DataFrame(np.array(X_train),columns=df.columns[:-1]),pd.DataFrame(np.array(X_test),columns=df.columns[:-1]),np.array(Y_train),np.array(Y_test)"
      ],
      "metadata": {
        "id": "Xo8i062J2IvX"
      },
      "execution_count": 99,
      "outputs": []
    },
    {
      "cell_type": "code",
      "source": [
        "X_train.shape,Y_train.shape,X_test.shape,Y_test.shape"
      ],
      "metadata": {
        "colab": {
          "base_uri": "https://localhost:8080/"
        },
        "id": "jG-xCRKM2jpW",
        "outputId": "68539ff8-b756-4b18-ab70-021638f73fbe"
      },
      "execution_count": 100,
      "outputs": [
        {
          "output_type": "execute_result",
          "data": {
            "text/plain": [
              "((630, 2), (630,), (270, 2), (270,))"
            ]
          },
          "metadata": {},
          "execution_count": 100
        }
      ]
    },
    {
      "cell_type": "markdown",
      "source": [
        "## **Ordinal encoding**"
      ],
      "metadata": {
        "id": "LFtuAWTT1emG"
      }
    },
    {
      "cell_type": "code",
      "source": [
        "from sklearn.preprocessing import OrdinalEncoder"
      ],
      "metadata": {
        "id": "vqScxzQg0Dk9"
      },
      "execution_count": 101,
      "outputs": []
    },
    {
      "cell_type": "code",
      "source": [
        "oe = OrdinalEncoder(categories=[['High school','Masters','Diploma','Bachelors','Phd'],['M','F','O']])"
      ],
      "metadata": {
        "id": "W-5KfzRA1o1O"
      },
      "execution_count": 102,
      "outputs": []
    },
    {
      "cell_type": "code",
      "source": [
        "oe.fit(X_train)"
      ],
      "metadata": {
        "colab": {
          "base_uri": "https://localhost:8080/"
        },
        "id": "_H30kZBr17bN",
        "outputId": "ab2b9b31-638f-4557-ec8b-575fcddf81e2"
      },
      "execution_count": 103,
      "outputs": [
        {
          "output_type": "execute_result",
          "data": {
            "text/plain": [
              "OrdinalEncoder(categories=[['High school', 'Masters', 'Diploma', 'Bachelors',\n",
              "                            'Phd'],\n",
              "                           ['M', 'F', 'O']])"
            ]
          },
          "metadata": {},
          "execution_count": 103
        }
      ]
    },
    {
      "cell_type": "code",
      "source": [
        "oe.transform(X_train)\n",
        "oe.transform(X_test)"
      ],
      "metadata": {
        "colab": {
          "base_uri": "https://localhost:8080/"
        },
        "id": "XBGjwTEh3HJt",
        "outputId": "5439bd01-847a-4d21-dcc4-b2e5a9f0ae24"
      },
      "execution_count": 104,
      "outputs": [
        {
          "output_type": "execute_result",
          "data": {
            "text/plain": [
              "array([[0., 1.],\n",
              "       [0., 0.],\n",
              "       [4., 2.],\n",
              "       [3., 2.],\n",
              "       [3., 2.],\n",
              "       [2., 0.],\n",
              "       [2., 0.],\n",
              "       [2., 0.],\n",
              "       [0., 0.],\n",
              "       [1., 0.],\n",
              "       [3., 1.],\n",
              "       [2., 0.],\n",
              "       [0., 0.],\n",
              "       [3., 2.],\n",
              "       [0., 0.],\n",
              "       [1., 0.],\n",
              "       [4., 2.],\n",
              "       [0., 0.],\n",
              "       [4., 2.],\n",
              "       [3., 1.],\n",
              "       [3., 1.],\n",
              "       [3., 2.],\n",
              "       [3., 1.],\n",
              "       [0., 0.],\n",
              "       [2., 0.],\n",
              "       [2., 0.],\n",
              "       [3., 2.],\n",
              "       [0., 0.],\n",
              "       [1., 1.],\n",
              "       [0., 0.],\n",
              "       [0., 0.],\n",
              "       [0., 0.],\n",
              "       [1., 1.],\n",
              "       [0., 0.],\n",
              "       [3., 2.],\n",
              "       [0., 0.],\n",
              "       [1., 0.],\n",
              "       [3., 1.],\n",
              "       [0., 0.],\n",
              "       [2., 0.],\n",
              "       [0., 0.],\n",
              "       [1., 0.],\n",
              "       [1., 1.],\n",
              "       [4., 2.],\n",
              "       [3., 1.],\n",
              "       [3., 1.],\n",
              "       [0., 0.],\n",
              "       [4., 2.],\n",
              "       [0., 0.],\n",
              "       [3., 1.],\n",
              "       [3., 2.],\n",
              "       [1., 1.],\n",
              "       [0., 0.],\n",
              "       [1., 1.],\n",
              "       [3., 1.],\n",
              "       [4., 2.],\n",
              "       [2., 0.],\n",
              "       [0., 0.],\n",
              "       [1., 0.],\n",
              "       [3., 2.],\n",
              "       [0., 0.],\n",
              "       [3., 2.],\n",
              "       [1., 1.],\n",
              "       [0., 1.],\n",
              "       [1., 1.],\n",
              "       [0., 0.],\n",
              "       [2., 0.],\n",
              "       [3., 2.],\n",
              "       [3., 1.],\n",
              "       [0., 0.],\n",
              "       [1., 0.],\n",
              "       [0., 1.],\n",
              "       [0., 1.],\n",
              "       [0., 0.],\n",
              "       [1., 1.],\n",
              "       [4., 2.],\n",
              "       [1., 1.],\n",
              "       [0., 1.],\n",
              "       [4., 2.],\n",
              "       [0., 1.],\n",
              "       [3., 2.],\n",
              "       [3., 2.],\n",
              "       [1., 0.],\n",
              "       [3., 2.],\n",
              "       [1., 1.],\n",
              "       [3., 2.],\n",
              "       [3., 2.],\n",
              "       [0., 0.],\n",
              "       [2., 0.],\n",
              "       [0., 0.],\n",
              "       [3., 1.],\n",
              "       [1., 0.],\n",
              "       [0., 0.],\n",
              "       [0., 0.],\n",
              "       [3., 1.],\n",
              "       [2., 0.],\n",
              "       [3., 1.],\n",
              "       [0., 1.],\n",
              "       [1., 1.],\n",
              "       [3., 1.],\n",
              "       [3., 2.],\n",
              "       [0., 0.],\n",
              "       [0., 0.],\n",
              "       [1., 0.],\n",
              "       [3., 1.],\n",
              "       [2., 0.],\n",
              "       [3., 2.],\n",
              "       [4., 2.],\n",
              "       [0., 1.],\n",
              "       [3., 2.],\n",
              "       [1., 1.],\n",
              "       [2., 0.],\n",
              "       [0., 0.],\n",
              "       [3., 1.],\n",
              "       [4., 2.],\n",
              "       [4., 2.],\n",
              "       [4., 2.],\n",
              "       [3., 2.],\n",
              "       [4., 2.],\n",
              "       [0., 0.],\n",
              "       [2., 0.],\n",
              "       [4., 2.],\n",
              "       [3., 2.],\n",
              "       [0., 0.],\n",
              "       [0., 0.],\n",
              "       [4., 2.],\n",
              "       [3., 1.],\n",
              "       [1., 1.],\n",
              "       [1., 0.],\n",
              "       [4., 2.],\n",
              "       [4., 2.],\n",
              "       [1., 0.],\n",
              "       [3., 2.],\n",
              "       [2., 0.],\n",
              "       [4., 2.],\n",
              "       [3., 2.],\n",
              "       [0., 0.],\n",
              "       [2., 0.],\n",
              "       [0., 0.],\n",
              "       [1., 1.],\n",
              "       [0., 1.],\n",
              "       [3., 1.],\n",
              "       [0., 0.],\n",
              "       [3., 2.],\n",
              "       [0., 1.],\n",
              "       [1., 0.],\n",
              "       [3., 2.],\n",
              "       [3., 2.],\n",
              "       [0., 0.],\n",
              "       [4., 2.],\n",
              "       [3., 1.],\n",
              "       [0., 1.],\n",
              "       [0., 0.],\n",
              "       [1., 0.],\n",
              "       [0., 1.],\n",
              "       [1., 1.],\n",
              "       [1., 0.],\n",
              "       [0., 1.],\n",
              "       [4., 2.],\n",
              "       [1., 1.],\n",
              "       [4., 2.],\n",
              "       [1., 1.],\n",
              "       [0., 0.],\n",
              "       [0., 0.],\n",
              "       [1., 1.],\n",
              "       [1., 0.],\n",
              "       [1., 0.],\n",
              "       [0., 0.],\n",
              "       [1., 0.],\n",
              "       [3., 2.],\n",
              "       [0., 0.],\n",
              "       [0., 1.],\n",
              "       [0., 1.],\n",
              "       [3., 2.],\n",
              "       [0., 0.],\n",
              "       [4., 2.],\n",
              "       [2., 0.],\n",
              "       [1., 0.],\n",
              "       [0., 1.],\n",
              "       [3., 2.],\n",
              "       [1., 1.],\n",
              "       [1., 1.],\n",
              "       [1., 1.],\n",
              "       [3., 2.],\n",
              "       [0., 0.],\n",
              "       [4., 2.],\n",
              "       [1., 1.],\n",
              "       [2., 0.],\n",
              "       [1., 1.],\n",
              "       [2., 0.],\n",
              "       [1., 1.],\n",
              "       [3., 2.],\n",
              "       [1., 0.],\n",
              "       [3., 1.],\n",
              "       [0., 0.],\n",
              "       [0., 0.],\n",
              "       [0., 0.],\n",
              "       [4., 2.],\n",
              "       [0., 1.],\n",
              "       [3., 2.],\n",
              "       [3., 1.],\n",
              "       [2., 0.],\n",
              "       [3., 1.],\n",
              "       [0., 1.],\n",
              "       [3., 2.],\n",
              "       [0., 0.],\n",
              "       [4., 2.],\n",
              "       [3., 2.],\n",
              "       [0., 0.],\n",
              "       [0., 1.],\n",
              "       [0., 1.],\n",
              "       [1., 0.],\n",
              "       [1., 0.],\n",
              "       [1., 1.],\n",
              "       [1., 0.],\n",
              "       [3., 1.],\n",
              "       [1., 0.],\n",
              "       [3., 1.],\n",
              "       [0., 1.],\n",
              "       [1., 1.],\n",
              "       [2., 0.],\n",
              "       [0., 0.],\n",
              "       [4., 2.],\n",
              "       [2., 0.],\n",
              "       [1., 1.],\n",
              "       [1., 1.],\n",
              "       [4., 2.],\n",
              "       [1., 0.],\n",
              "       [2., 0.],\n",
              "       [3., 2.],\n",
              "       [2., 0.],\n",
              "       [1., 0.],\n",
              "       [3., 1.],\n",
              "       [2., 0.],\n",
              "       [2., 0.],\n",
              "       [3., 2.],\n",
              "       [3., 1.],\n",
              "       [1., 0.],\n",
              "       [1., 0.],\n",
              "       [0., 0.],\n",
              "       [0., 0.],\n",
              "       [0., 0.],\n",
              "       [0., 0.],\n",
              "       [0., 0.],\n",
              "       [0., 0.],\n",
              "       [3., 1.],\n",
              "       [3., 1.],\n",
              "       [3., 2.],\n",
              "       [2., 0.],\n",
              "       [0., 0.],\n",
              "       [0., 0.],\n",
              "       [0., 1.],\n",
              "       [2., 0.],\n",
              "       [1., 0.],\n",
              "       [0., 0.],\n",
              "       [0., 1.],\n",
              "       [3., 1.],\n",
              "       [0., 1.],\n",
              "       [0., 0.],\n",
              "       [1., 0.],\n",
              "       [3., 1.],\n",
              "       [4., 2.],\n",
              "       [0., 1.],\n",
              "       [0., 0.],\n",
              "       [0., 0.],\n",
              "       [2., 0.],\n",
              "       [1., 0.],\n",
              "       [0., 0.],\n",
              "       [1., 0.],\n",
              "       [2., 0.]])"
            ]
          },
          "metadata": {},
          "execution_count": 104
        }
      ]
    },
    {
      "cell_type": "markdown",
      "source": [
        "### **Label encoding (for target variable only)**"
      ],
      "metadata": {
        "id": "bQ9LLpsK4zcN"
      }
    },
    {
      "cell_type": "code",
      "source": [
        "from sklearn.preprocessing import LabelEncoder"
      ],
      "metadata": {
        "id": "J9ZbihGm4hfl"
      },
      "execution_count": 105,
      "outputs": []
    },
    {
      "cell_type": "code",
      "source": [
        "le = LabelEncoder()"
      ],
      "metadata": {
        "id": "pjZasMeT5C2M"
      },
      "execution_count": 106,
      "outputs": []
    },
    {
      "cell_type": "code",
      "source": [
        "le.fit(Y_train)\n",
        "le.transform(Y_train)\n",
        "le.transform(Y_test)"
      ],
      "metadata": {
        "colab": {
          "base_uri": "https://localhost:8080/"
        },
        "id": "l5nKFFmk5FgN",
        "outputId": "e794233b-cee1-4e21-f94d-75366fe9a8bd"
      },
      "execution_count": 107,
      "outputs": [
        {
          "output_type": "execute_result",
          "data": {
            "text/plain": [
              "array([1, 0, 0, 0, 0, 2, 2, 2, 0, 2, 1, 2, 0, 0, 0, 2, 0, 0, 0, 1, 1, 0,\n",
              "       1, 0, 2, 2, 0, 0, 1, 0, 0, 0, 1, 0, 0, 0, 2, 1, 0, 2, 0, 2, 1, 0,\n",
              "       1, 1, 0, 0, 0, 1, 0, 1, 0, 1, 1, 0, 2, 0, 2, 0, 0, 0, 1, 1, 1, 0,\n",
              "       2, 0, 1, 0, 2, 1, 1, 0, 1, 0, 1, 1, 0, 1, 0, 0, 2, 0, 1, 0, 0, 0,\n",
              "       2, 0, 1, 2, 0, 0, 1, 2, 1, 1, 1, 1, 0, 0, 0, 2, 1, 2, 0, 0, 1, 0,\n",
              "       1, 2, 0, 1, 0, 0, 0, 0, 0, 0, 2, 0, 0, 0, 0, 0, 1, 1, 2, 0, 0, 2,\n",
              "       0, 2, 0, 0, 0, 2, 0, 1, 1, 1, 0, 0, 1, 2, 0, 0, 0, 0, 1, 1, 0, 2,\n",
              "       1, 1, 2, 1, 0, 1, 0, 1, 0, 0, 1, 2, 2, 0, 2, 0, 0, 1, 1, 0, 0, 0,\n",
              "       2, 2, 1, 0, 1, 1, 1, 0, 0, 0, 1, 2, 1, 2, 1, 0, 2, 1, 0, 0, 0, 0,\n",
              "       1, 0, 1, 2, 1, 1, 0, 0, 0, 0, 0, 1, 1, 2, 2, 1, 2, 1, 2, 1, 1, 1,\n",
              "       2, 0, 0, 2, 1, 1, 0, 2, 2, 0, 2, 2, 1, 2, 2, 0, 1, 2, 2, 0, 0, 0,\n",
              "       0, 0, 0, 1, 1, 0, 2, 0, 0, 1, 2, 2, 0, 1, 1, 1, 0, 2, 1, 0, 1, 0,\n",
              "       0, 2, 2, 0, 2, 2])"
            ]
          },
          "metadata": {},
          "execution_count": 107
        }
      ]
    },
    {
      "cell_type": "markdown",
      "source": [
        "# **One hot encoding**"
      ],
      "metadata": {
        "id": "G42yedXMDxuS"
      }
    },
    {
      "cell_type": "markdown",
      "source": [
        "### **Dummy variable trap**\n",
        "\n",
        "> Generally, after one hot encoding, a single column is removed in order to remove multicollinearity between the variables. Multicollinearity arises due to the fact that after one-hot encoding, x1+x2+x3+..=1, which is an equation connecting the encoded columns."
      ],
      "metadata": {
        "id": "_k86iXIXD4na"
      }
    },
    {
      "cell_type": "code",
      "source": [
        "from sklearn.preprocessing import OneHotEncoder"
      ],
      "metadata": {
        "id": "MrtoIH9u5LW9"
      },
      "execution_count": 108,
      "outputs": []
    },
    {
      "cell_type": "code",
      "source": [
        "ohe = OneHotEncoder(drop='first') # To avoid multicollinearity, use drop = 'first'"
      ],
      "metadata": {
        "id": "YA4-YK8XGN3L"
      },
      "execution_count": 109,
      "outputs": []
    },
    {
      "cell_type": "code",
      "source": [
        "encoded_X_train = ohe.fit_transform(X_train[['Degree','gender']]).toarray()\n",
        "encoded_X_test = ohe.transform(X_test[['Degree','gender']]).toarray()"
      ],
      "metadata": {
        "id": "flHpNwZ3GQhC"
      },
      "execution_count": 110,
      "outputs": []
    },
    {
      "cell_type": "code",
      "source": [
        "np.hstack((X_train[['Degree','gender']].values,encoded_X_train)).shape"
      ],
      "metadata": {
        "colab": {
          "base_uri": "https://localhost:8080/"
        },
        "id": "v5kFzXj2GehR",
        "outputId": "42185180-53c3-4659-8b4a-08b9f8d3fb1c"
      },
      "execution_count": 111,
      "outputs": [
        {
          "output_type": "execute_result",
          "data": {
            "text/plain": [
              "(630, 8)"
            ]
          },
          "metadata": {},
          "execution_count": 111
        }
      ]
    },
    {
      "cell_type": "code",
      "source": [
        "encoded_X_train"
      ],
      "metadata": {
        "colab": {
          "base_uri": "https://localhost:8080/"
        },
        "id": "csUa8b9nH2x6",
        "outputId": "c82b3110-0815-44fc-8f7a-c110a9e11c10"
      },
      "execution_count": 112,
      "outputs": [
        {
          "output_type": "execute_result",
          "data": {
            "text/plain": [
              "array([[0., 0., 0., 0., 0., 1.],\n",
              "       [0., 0., 0., 0., 0., 1.],\n",
              "       [0., 1., 0., 0., 1., 0.],\n",
              "       ...,\n",
              "       [0., 0., 1., 0., 1., 0.],\n",
              "       [0., 0., 0., 0., 0., 1.],\n",
              "       [0., 0., 0., 0., 0., 1.]])"
            ]
          },
          "metadata": {},
          "execution_count": 112
        }
      ]
    },
    {
      "cell_type": "markdown",
      "source": [
        "# **Column transformer**\n",
        "> Apply different type of encoding to each class"
      ],
      "metadata": {
        "id": "cUBQNSaPIyEs"
      }
    },
    {
      "cell_type": "code",
      "source": [
        "from sklearn.compose import ColumnTransformer"
      ],
      "metadata": {
        "id": "nUolpti2IVNb"
      },
      "execution_count": 113,
      "outputs": []
    },
    {
      "cell_type": "code",
      "source": [
        "transformer = ColumnTransformer(transformers=[\n",
        "                                              ('tnf1',OrdinalEncoder(categories=[['High school','Masters','Diploma','Bachelors','Phd']]),['Degree']),\n",
        "                                              ('tnf2',OneHotEncoder(sparse=True,drop='first'),['gender'])\n",
        "                                              ],remainder='passthrough')"
      ],
      "metadata": {
        "id": "VP8DAxgZJbZq"
      },
      "execution_count": 114,
      "outputs": []
    },
    {
      "cell_type": "code",
      "source": [
        "X_train = pd.DataFrame(transformer.fit_transform(X_train),columns=['Degree','g1','g2'])"
      ],
      "metadata": {
        "id": "PcuiuoTrKZwd"
      },
      "execution_count": 119,
      "outputs": []
    },
    {
      "cell_type": "code",
      "source": [
        "X_train"
      ],
      "metadata": {
        "colab": {
          "base_uri": "https://localhost:8080/",
          "height": 423
        },
        "id": "AjMYe_yLK5vE",
        "outputId": "3f446e7c-3ea8-4a31-d355-329d2921bed2"
      },
      "execution_count": 120,
      "outputs": [
        {
          "output_type": "execute_result",
          "data": {
            "text/plain": [
              "     Degree   g1   g2\n",
              "0       3.0  0.0  1.0\n",
              "1       3.0  0.0  1.0\n",
              "2       0.0  1.0  0.0\n",
              "3       1.0  0.0  0.0\n",
              "4       0.0  1.0  0.0\n",
              "..      ...  ...  ...\n",
              "625     0.0  0.0  0.0\n",
              "626     0.0  1.0  0.0\n",
              "627     1.0  1.0  0.0\n",
              "628     3.0  0.0  1.0\n",
              "629     3.0  0.0  1.0\n",
              "\n",
              "[630 rows x 3 columns]"
            ],
            "text/html": [
              "\n",
              "  <div id=\"df-98ae858b-caa0-495d-b33a-d53d3065aaa5\">\n",
              "    <div class=\"colab-df-container\">\n",
              "      <div>\n",
              "<style scoped>\n",
              "    .dataframe tbody tr th:only-of-type {\n",
              "        vertical-align: middle;\n",
              "    }\n",
              "\n",
              "    .dataframe tbody tr th {\n",
              "        vertical-align: top;\n",
              "    }\n",
              "\n",
              "    .dataframe thead th {\n",
              "        text-align: right;\n",
              "    }\n",
              "</style>\n",
              "<table border=\"1\" class=\"dataframe\">\n",
              "  <thead>\n",
              "    <tr style=\"text-align: right;\">\n",
              "      <th></th>\n",
              "      <th>Degree</th>\n",
              "      <th>g1</th>\n",
              "      <th>g2</th>\n",
              "    </tr>\n",
              "  </thead>\n",
              "  <tbody>\n",
              "    <tr>\n",
              "      <th>0</th>\n",
              "      <td>3.0</td>\n",
              "      <td>0.0</td>\n",
              "      <td>1.0</td>\n",
              "    </tr>\n",
              "    <tr>\n",
              "      <th>1</th>\n",
              "      <td>3.0</td>\n",
              "      <td>0.0</td>\n",
              "      <td>1.0</td>\n",
              "    </tr>\n",
              "    <tr>\n",
              "      <th>2</th>\n",
              "      <td>0.0</td>\n",
              "      <td>1.0</td>\n",
              "      <td>0.0</td>\n",
              "    </tr>\n",
              "    <tr>\n",
              "      <th>3</th>\n",
              "      <td>1.0</td>\n",
              "      <td>0.0</td>\n",
              "      <td>0.0</td>\n",
              "    </tr>\n",
              "    <tr>\n",
              "      <th>4</th>\n",
              "      <td>0.0</td>\n",
              "      <td>1.0</td>\n",
              "      <td>0.0</td>\n",
              "    </tr>\n",
              "    <tr>\n",
              "      <th>...</th>\n",
              "      <td>...</td>\n",
              "      <td>...</td>\n",
              "      <td>...</td>\n",
              "    </tr>\n",
              "    <tr>\n",
              "      <th>625</th>\n",
              "      <td>0.0</td>\n",
              "      <td>0.0</td>\n",
              "      <td>0.0</td>\n",
              "    </tr>\n",
              "    <tr>\n",
              "      <th>626</th>\n",
              "      <td>0.0</td>\n",
              "      <td>1.0</td>\n",
              "      <td>0.0</td>\n",
              "    </tr>\n",
              "    <tr>\n",
              "      <th>627</th>\n",
              "      <td>1.0</td>\n",
              "      <td>1.0</td>\n",
              "      <td>0.0</td>\n",
              "    </tr>\n",
              "    <tr>\n",
              "      <th>628</th>\n",
              "      <td>3.0</td>\n",
              "      <td>0.0</td>\n",
              "      <td>1.0</td>\n",
              "    </tr>\n",
              "    <tr>\n",
              "      <th>629</th>\n",
              "      <td>3.0</td>\n",
              "      <td>0.0</td>\n",
              "      <td>1.0</td>\n",
              "    </tr>\n",
              "  </tbody>\n",
              "</table>\n",
              "<p>630 rows × 3 columns</p>\n",
              "</div>\n",
              "      <button class=\"colab-df-convert\" onclick=\"convertToInteractive('df-98ae858b-caa0-495d-b33a-d53d3065aaa5')\"\n",
              "              title=\"Convert this dataframe to an interactive table.\"\n",
              "              style=\"display:none;\">\n",
              "        \n",
              "  <svg xmlns=\"http://www.w3.org/2000/svg\" height=\"24px\"viewBox=\"0 0 24 24\"\n",
              "       width=\"24px\">\n",
              "    <path d=\"M0 0h24v24H0V0z\" fill=\"none\"/>\n",
              "    <path d=\"M18.56 5.44l.94 2.06.94-2.06 2.06-.94-2.06-.94-.94-2.06-.94 2.06-2.06.94zm-11 1L8.5 8.5l.94-2.06 2.06-.94-2.06-.94L8.5 2.5l-.94 2.06-2.06.94zm10 10l.94 2.06.94-2.06 2.06-.94-2.06-.94-.94-2.06-.94 2.06-2.06.94z\"/><path d=\"M17.41 7.96l-1.37-1.37c-.4-.4-.92-.59-1.43-.59-.52 0-1.04.2-1.43.59L10.3 9.45l-7.72 7.72c-.78.78-.78 2.05 0 2.83L4 21.41c.39.39.9.59 1.41.59.51 0 1.02-.2 1.41-.59l7.78-7.78 2.81-2.81c.8-.78.8-2.07 0-2.86zM5.41 20L4 18.59l7.72-7.72 1.47 1.35L5.41 20z\"/>\n",
              "  </svg>\n",
              "      </button>\n",
              "      \n",
              "  <style>\n",
              "    .colab-df-container {\n",
              "      display:flex;\n",
              "      flex-wrap:wrap;\n",
              "      gap: 12px;\n",
              "    }\n",
              "\n",
              "    .colab-df-convert {\n",
              "      background-color: #E8F0FE;\n",
              "      border: none;\n",
              "      border-radius: 50%;\n",
              "      cursor: pointer;\n",
              "      display: none;\n",
              "      fill: #1967D2;\n",
              "      height: 32px;\n",
              "      padding: 0 0 0 0;\n",
              "      width: 32px;\n",
              "    }\n",
              "\n",
              "    .colab-df-convert:hover {\n",
              "      background-color: #E2EBFA;\n",
              "      box-shadow: 0px 1px 2px rgba(60, 64, 67, 0.3), 0px 1px 3px 1px rgba(60, 64, 67, 0.15);\n",
              "      fill: #174EA6;\n",
              "    }\n",
              "\n",
              "    [theme=dark] .colab-df-convert {\n",
              "      background-color: #3B4455;\n",
              "      fill: #D2E3FC;\n",
              "    }\n",
              "\n",
              "    [theme=dark] .colab-df-convert:hover {\n",
              "      background-color: #434B5C;\n",
              "      box-shadow: 0px 1px 3px 1px rgba(0, 0, 0, 0.15);\n",
              "      filter: drop-shadow(0px 1px 2px rgba(0, 0, 0, 0.3));\n",
              "      fill: #FFFFFF;\n",
              "    }\n",
              "  </style>\n",
              "\n",
              "      <script>\n",
              "        const buttonEl =\n",
              "          document.querySelector('#df-98ae858b-caa0-495d-b33a-d53d3065aaa5 button.colab-df-convert');\n",
              "        buttonEl.style.display =\n",
              "          google.colab.kernel.accessAllowed ? 'block' : 'none';\n",
              "\n",
              "        async function convertToInteractive(key) {\n",
              "          const element = document.querySelector('#df-98ae858b-caa0-495d-b33a-d53d3065aaa5');\n",
              "          const dataTable =\n",
              "            await google.colab.kernel.invokeFunction('convertToInteractive',\n",
              "                                                     [key], {});\n",
              "          if (!dataTable) return;\n",
              "\n",
              "          const docLinkHtml = 'Like what you see? Visit the ' +\n",
              "            '<a target=\"_blank\" href=https://colab.research.google.com/notebooks/data_table.ipynb>data table notebook</a>'\n",
              "            + ' to learn more about interactive tables.';\n",
              "          element.innerHTML = '';\n",
              "          dataTable['output_type'] = 'display_data';\n",
              "          await google.colab.output.renderOutput(dataTable, element);\n",
              "          const docLink = document.createElement('div');\n",
              "          docLink.innerHTML = docLinkHtml;\n",
              "          element.appendChild(docLink);\n",
              "        }\n",
              "      </script>\n",
              "    </div>\n",
              "  </div>\n",
              "  "
            ]
          },
          "metadata": {},
          "execution_count": 120
        }
      ]
    }
  ]
}