{
  "nbformat": 4,
  "nbformat_minor": 0,
  "metadata": {
    "colab": {
      "name": "transformers.ipynb",
      "provenance": [],
      "collapsed_sections": []
    },
    "kernelspec": {
      "name": "python3",
      "display_name": "Python 3"
    },
    "language_info": {
      "name": "python"
    }
  },
  "cells": [
    {
      "cell_type": "code",
      "execution_count": null,
      "metadata": {
        "id": "XujtkKP4a8CS"
      },
      "outputs": [],
      "source": [
        "import pandas as pd\n",
        "import numpy as np\n",
        "import matplotlib.pyplot as plt\n",
        "import seaborn as sns\n",
        "\n",
        "from sklearn.impute import SimpleImputer\n",
        "from sklearn.preprocessing import OrdinalEncoder\n",
        "from sklearn.preprocessing import OneHotEncoder"
      ]
    },
    {
      "cell_type": "code",
      "source": [
        "df = pd.read_csv('titanic/train.csv')"
      ],
      "metadata": {
        "id": "Hgb5J7TGn8H9"
      },
      "execution_count": null,
      "outputs": []
    },
    {
      "cell_type": "code",
      "source": [
        "df.head()"
      ],
      "metadata": {
        "colab": {
          "base_uri": "https://localhost:8080/",
          "height": 285
        },
        "id": "mJvIqARY1EL2",
        "outputId": "81683aac-6180-4804-80b9-8bd58628c678"
      },
      "execution_count": null,
      "outputs": [
        {
          "output_type": "execute_result",
          "data": {
            "text/plain": [
              "   PassengerId  Survived  Pclass  \\\n",
              "0            1         0       3   \n",
              "1            2         1       1   \n",
              "2            3         1       3   \n",
              "3            4         1       1   \n",
              "4            5         0       3   \n",
              "\n",
              "                                                Name     Sex   Age  SibSp  \\\n",
              "0                            Braund, Mr. Owen Harris    male  22.0      1   \n",
              "1  Cumings, Mrs. John Bradley (Florence Briggs Th...  female  38.0      1   \n",
              "2                             Heikkinen, Miss. Laina  female  26.0      0   \n",
              "3       Futrelle, Mrs. Jacques Heath (Lily May Peel)  female  35.0      1   \n",
              "4                           Allen, Mr. William Henry    male  35.0      0   \n",
              "\n",
              "   Parch            Ticket     Fare Cabin Embarked  \n",
              "0      0         A/5 21171   7.2500   NaN        S  \n",
              "1      0          PC 17599  71.2833   C85        C  \n",
              "2      0  STON/O2. 3101282   7.9250   NaN        S  \n",
              "3      0            113803  53.1000  C123        S  \n",
              "4      0            373450   8.0500   NaN        S  "
            ],
            "text/html": [
              "\n",
              "  <div id=\"df-814b405c-9d6d-417a-a696-084b773065fc\">\n",
              "    <div class=\"colab-df-container\">\n",
              "      <div>\n",
              "<style scoped>\n",
              "    .dataframe tbody tr th:only-of-type {\n",
              "        vertical-align: middle;\n",
              "    }\n",
              "\n",
              "    .dataframe tbody tr th {\n",
              "        vertical-align: top;\n",
              "    }\n",
              "\n",
              "    .dataframe thead th {\n",
              "        text-align: right;\n",
              "    }\n",
              "</style>\n",
              "<table border=\"1\" class=\"dataframe\">\n",
              "  <thead>\n",
              "    <tr style=\"text-align: right;\">\n",
              "      <th></th>\n",
              "      <th>PassengerId</th>\n",
              "      <th>Survived</th>\n",
              "      <th>Pclass</th>\n",
              "      <th>Name</th>\n",
              "      <th>Sex</th>\n",
              "      <th>Age</th>\n",
              "      <th>SibSp</th>\n",
              "      <th>Parch</th>\n",
              "      <th>Ticket</th>\n",
              "      <th>Fare</th>\n",
              "      <th>Cabin</th>\n",
              "      <th>Embarked</th>\n",
              "    </tr>\n",
              "  </thead>\n",
              "  <tbody>\n",
              "    <tr>\n",
              "      <th>0</th>\n",
              "      <td>1</td>\n",
              "      <td>0</td>\n",
              "      <td>3</td>\n",
              "      <td>Braund, Mr. Owen Harris</td>\n",
              "      <td>male</td>\n",
              "      <td>22.0</td>\n",
              "      <td>1</td>\n",
              "      <td>0</td>\n",
              "      <td>A/5 21171</td>\n",
              "      <td>7.2500</td>\n",
              "      <td>NaN</td>\n",
              "      <td>S</td>\n",
              "    </tr>\n",
              "    <tr>\n",
              "      <th>1</th>\n",
              "      <td>2</td>\n",
              "      <td>1</td>\n",
              "      <td>1</td>\n",
              "      <td>Cumings, Mrs. John Bradley (Florence Briggs Th...</td>\n",
              "      <td>female</td>\n",
              "      <td>38.0</td>\n",
              "      <td>1</td>\n",
              "      <td>0</td>\n",
              "      <td>PC 17599</td>\n",
              "      <td>71.2833</td>\n",
              "      <td>C85</td>\n",
              "      <td>C</td>\n",
              "    </tr>\n",
              "    <tr>\n",
              "      <th>2</th>\n",
              "      <td>3</td>\n",
              "      <td>1</td>\n",
              "      <td>3</td>\n",
              "      <td>Heikkinen, Miss. Laina</td>\n",
              "      <td>female</td>\n",
              "      <td>26.0</td>\n",
              "      <td>0</td>\n",
              "      <td>0</td>\n",
              "      <td>STON/O2. 3101282</td>\n",
              "      <td>7.9250</td>\n",
              "      <td>NaN</td>\n",
              "      <td>S</td>\n",
              "    </tr>\n",
              "    <tr>\n",
              "      <th>3</th>\n",
              "      <td>4</td>\n",
              "      <td>1</td>\n",
              "      <td>1</td>\n",
              "      <td>Futrelle, Mrs. Jacques Heath (Lily May Peel)</td>\n",
              "      <td>female</td>\n",
              "      <td>35.0</td>\n",
              "      <td>1</td>\n",
              "      <td>0</td>\n",
              "      <td>113803</td>\n",
              "      <td>53.1000</td>\n",
              "      <td>C123</td>\n",
              "      <td>S</td>\n",
              "    </tr>\n",
              "    <tr>\n",
              "      <th>4</th>\n",
              "      <td>5</td>\n",
              "      <td>0</td>\n",
              "      <td>3</td>\n",
              "      <td>Allen, Mr. William Henry</td>\n",
              "      <td>male</td>\n",
              "      <td>35.0</td>\n",
              "      <td>0</td>\n",
              "      <td>0</td>\n",
              "      <td>373450</td>\n",
              "      <td>8.0500</td>\n",
              "      <td>NaN</td>\n",
              "      <td>S</td>\n",
              "    </tr>\n",
              "  </tbody>\n",
              "</table>\n",
              "</div>\n",
              "      <button class=\"colab-df-convert\" onclick=\"convertToInteractive('df-814b405c-9d6d-417a-a696-084b773065fc')\"\n",
              "              title=\"Convert this dataframe to an interactive table.\"\n",
              "              style=\"display:none;\">\n",
              "        \n",
              "  <svg xmlns=\"http://www.w3.org/2000/svg\" height=\"24px\"viewBox=\"0 0 24 24\"\n",
              "       width=\"24px\">\n",
              "    <path d=\"M0 0h24v24H0V0z\" fill=\"none\"/>\n",
              "    <path d=\"M18.56 5.44l.94 2.06.94-2.06 2.06-.94-2.06-.94-.94-2.06-.94 2.06-2.06.94zm-11 1L8.5 8.5l.94-2.06 2.06-.94-2.06-.94L8.5 2.5l-.94 2.06-2.06.94zm10 10l.94 2.06.94-2.06 2.06-.94-2.06-.94-.94-2.06-.94 2.06-2.06.94z\"/><path d=\"M17.41 7.96l-1.37-1.37c-.4-.4-.92-.59-1.43-.59-.52 0-1.04.2-1.43.59L10.3 9.45l-7.72 7.72c-.78.78-.78 2.05 0 2.83L4 21.41c.39.39.9.59 1.41.59.51 0 1.02-.2 1.41-.59l7.78-7.78 2.81-2.81c.8-.78.8-2.07 0-2.86zM5.41 20L4 18.59l7.72-7.72 1.47 1.35L5.41 20z\"/>\n",
              "  </svg>\n",
              "      </button>\n",
              "      \n",
              "  <style>\n",
              "    .colab-df-container {\n",
              "      display:flex;\n",
              "      flex-wrap:wrap;\n",
              "      gap: 12px;\n",
              "    }\n",
              "\n",
              "    .colab-df-convert {\n",
              "      background-color: #E8F0FE;\n",
              "      border: none;\n",
              "      border-radius: 50%;\n",
              "      cursor: pointer;\n",
              "      display: none;\n",
              "      fill: #1967D2;\n",
              "      height: 32px;\n",
              "      padding: 0 0 0 0;\n",
              "      width: 32px;\n",
              "    }\n",
              "\n",
              "    .colab-df-convert:hover {\n",
              "      background-color: #E2EBFA;\n",
              "      box-shadow: 0px 1px 2px rgba(60, 64, 67, 0.3), 0px 1px 3px 1px rgba(60, 64, 67, 0.15);\n",
              "      fill: #174EA6;\n",
              "    }\n",
              "\n",
              "    [theme=dark] .colab-df-convert {\n",
              "      background-color: #3B4455;\n",
              "      fill: #D2E3FC;\n",
              "    }\n",
              "\n",
              "    [theme=dark] .colab-df-convert:hover {\n",
              "      background-color: #434B5C;\n",
              "      box-shadow: 0px 1px 3px 1px rgba(0, 0, 0, 0.15);\n",
              "      filter: drop-shadow(0px 1px 2px rgba(0, 0, 0, 0.3));\n",
              "      fill: #FFFFFF;\n",
              "    }\n",
              "  </style>\n",
              "\n",
              "      <script>\n",
              "        const buttonEl =\n",
              "          document.querySelector('#df-814b405c-9d6d-417a-a696-084b773065fc button.colab-df-convert');\n",
              "        buttonEl.style.display =\n",
              "          google.colab.kernel.accessAllowed ? 'block' : 'none';\n",
              "\n",
              "        async function convertToInteractive(key) {\n",
              "          const element = document.querySelector('#df-814b405c-9d6d-417a-a696-084b773065fc');\n",
              "          const dataTable =\n",
              "            await google.colab.kernel.invokeFunction('convertToInteractive',\n",
              "                                                     [key], {});\n",
              "          if (!dataTable) return;\n",
              "\n",
              "          const docLinkHtml = 'Like what you see? Visit the ' +\n",
              "            '<a target=\"_blank\" href=https://colab.research.google.com/notebooks/data_table.ipynb>data table notebook</a>'\n",
              "            + ' to learn more about interactive tables.';\n",
              "          element.innerHTML = '';\n",
              "          dataTable['output_type'] = 'display_data';\n",
              "          await google.colab.output.renderOutput(dataTable, element);\n",
              "          const docLink = document.createElement('div');\n",
              "          docLink.innerHTML = docLinkHtml;\n",
              "          element.appendChild(docLink);\n",
              "        }\n",
              "      </script>\n",
              "    </div>\n",
              "  </div>\n",
              "  "
            ]
          },
          "metadata": {},
          "execution_count": 56
        }
      ]
    },
    {
      "cell_type": "code",
      "source": [
        "df['Embarked'].value_counts()"
      ],
      "metadata": {
        "colab": {
          "base_uri": "https://localhost:8080/"
        },
        "id": "55m6_u3VJmQs",
        "outputId": "bb8a0803-c1d6-4a56-8837-ed64727aecd3"
      },
      "execution_count": null,
      "outputs": [
        {
          "output_type": "execute_result",
          "data": {
            "text/plain": [
              "S    644\n",
              "C    168\n",
              "Q     77\n",
              "Name: Embarked, dtype: int64"
            ]
          },
          "metadata": {},
          "execution_count": 57
        }
      ]
    },
    {
      "cell_type": "code",
      "source": [
        "df = df[['Embarked','Age','Fare','Sex','Survived']]"
      ],
      "metadata": {
        "id": "sJE7i4e4HRHH"
      },
      "execution_count": null,
      "outputs": []
    },
    {
      "cell_type": "code",
      "source": [
        "df.head()"
      ],
      "metadata": {
        "colab": {
          "base_uri": "https://localhost:8080/",
          "height": 206
        },
        "id": "jYs1miF4K2vS",
        "outputId": "531c7ea9-d140-4b47-946c-ceefcb508401"
      },
      "execution_count": null,
      "outputs": [
        {
          "output_type": "execute_result",
          "data": {
            "text/plain": [
              "  Embarked   Age     Fare     Sex  Survived\n",
              "0        S  22.0   7.2500    male         0\n",
              "1        C  38.0  71.2833  female         1\n",
              "2        S  26.0   7.9250  female         1\n",
              "3        S  35.0  53.1000  female         1\n",
              "4        S  35.0   8.0500    male         0"
            ],
            "text/html": [
              "\n",
              "  <div id=\"df-d2f3e112-5db3-4f11-ae5b-2d980b3570f0\">\n",
              "    <div class=\"colab-df-container\">\n",
              "      <div>\n",
              "<style scoped>\n",
              "    .dataframe tbody tr th:only-of-type {\n",
              "        vertical-align: middle;\n",
              "    }\n",
              "\n",
              "    .dataframe tbody tr th {\n",
              "        vertical-align: top;\n",
              "    }\n",
              "\n",
              "    .dataframe thead th {\n",
              "        text-align: right;\n",
              "    }\n",
              "</style>\n",
              "<table border=\"1\" class=\"dataframe\">\n",
              "  <thead>\n",
              "    <tr style=\"text-align: right;\">\n",
              "      <th></th>\n",
              "      <th>Embarked</th>\n",
              "      <th>Age</th>\n",
              "      <th>Fare</th>\n",
              "      <th>Sex</th>\n",
              "      <th>Survived</th>\n",
              "    </tr>\n",
              "  </thead>\n",
              "  <tbody>\n",
              "    <tr>\n",
              "      <th>0</th>\n",
              "      <td>S</td>\n",
              "      <td>22.0</td>\n",
              "      <td>7.2500</td>\n",
              "      <td>male</td>\n",
              "      <td>0</td>\n",
              "    </tr>\n",
              "    <tr>\n",
              "      <th>1</th>\n",
              "      <td>C</td>\n",
              "      <td>38.0</td>\n",
              "      <td>71.2833</td>\n",
              "      <td>female</td>\n",
              "      <td>1</td>\n",
              "    </tr>\n",
              "    <tr>\n",
              "      <th>2</th>\n",
              "      <td>S</td>\n",
              "      <td>26.0</td>\n",
              "      <td>7.9250</td>\n",
              "      <td>female</td>\n",
              "      <td>1</td>\n",
              "    </tr>\n",
              "    <tr>\n",
              "      <th>3</th>\n",
              "      <td>S</td>\n",
              "      <td>35.0</td>\n",
              "      <td>53.1000</td>\n",
              "      <td>female</td>\n",
              "      <td>1</td>\n",
              "    </tr>\n",
              "    <tr>\n",
              "      <th>4</th>\n",
              "      <td>S</td>\n",
              "      <td>35.0</td>\n",
              "      <td>8.0500</td>\n",
              "      <td>male</td>\n",
              "      <td>0</td>\n",
              "    </tr>\n",
              "  </tbody>\n",
              "</table>\n",
              "</div>\n",
              "      <button class=\"colab-df-convert\" onclick=\"convertToInteractive('df-d2f3e112-5db3-4f11-ae5b-2d980b3570f0')\"\n",
              "              title=\"Convert this dataframe to an interactive table.\"\n",
              "              style=\"display:none;\">\n",
              "        \n",
              "  <svg xmlns=\"http://www.w3.org/2000/svg\" height=\"24px\"viewBox=\"0 0 24 24\"\n",
              "       width=\"24px\">\n",
              "    <path d=\"M0 0h24v24H0V0z\" fill=\"none\"/>\n",
              "    <path d=\"M18.56 5.44l.94 2.06.94-2.06 2.06-.94-2.06-.94-.94-2.06-.94 2.06-2.06.94zm-11 1L8.5 8.5l.94-2.06 2.06-.94-2.06-.94L8.5 2.5l-.94 2.06-2.06.94zm10 10l.94 2.06.94-2.06 2.06-.94-2.06-.94-.94-2.06-.94 2.06-2.06.94z\"/><path d=\"M17.41 7.96l-1.37-1.37c-.4-.4-.92-.59-1.43-.59-.52 0-1.04.2-1.43.59L10.3 9.45l-7.72 7.72c-.78.78-.78 2.05 0 2.83L4 21.41c.39.39.9.59 1.41.59.51 0 1.02-.2 1.41-.59l7.78-7.78 2.81-2.81c.8-.78.8-2.07 0-2.86zM5.41 20L4 18.59l7.72-7.72 1.47 1.35L5.41 20z\"/>\n",
              "  </svg>\n",
              "      </button>\n",
              "      \n",
              "  <style>\n",
              "    .colab-df-container {\n",
              "      display:flex;\n",
              "      flex-wrap:wrap;\n",
              "      gap: 12px;\n",
              "    }\n",
              "\n",
              "    .colab-df-convert {\n",
              "      background-color: #E8F0FE;\n",
              "      border: none;\n",
              "      border-radius: 50%;\n",
              "      cursor: pointer;\n",
              "      display: none;\n",
              "      fill: #1967D2;\n",
              "      height: 32px;\n",
              "      padding: 0 0 0 0;\n",
              "      width: 32px;\n",
              "    }\n",
              "\n",
              "    .colab-df-convert:hover {\n",
              "      background-color: #E2EBFA;\n",
              "      box-shadow: 0px 1px 2px rgba(60, 64, 67, 0.3), 0px 1px 3px 1px rgba(60, 64, 67, 0.15);\n",
              "      fill: #174EA6;\n",
              "    }\n",
              "\n",
              "    [theme=dark] .colab-df-convert {\n",
              "      background-color: #3B4455;\n",
              "      fill: #D2E3FC;\n",
              "    }\n",
              "\n",
              "    [theme=dark] .colab-df-convert:hover {\n",
              "      background-color: #434B5C;\n",
              "      box-shadow: 0px 1px 3px 1px rgba(0, 0, 0, 0.15);\n",
              "      filter: drop-shadow(0px 1px 2px rgba(0, 0, 0, 0.3));\n",
              "      fill: #FFFFFF;\n",
              "    }\n",
              "  </style>\n",
              "\n",
              "      <script>\n",
              "        const buttonEl =\n",
              "          document.querySelector('#df-d2f3e112-5db3-4f11-ae5b-2d980b3570f0 button.colab-df-convert');\n",
              "        buttonEl.style.display =\n",
              "          google.colab.kernel.accessAllowed ? 'block' : 'none';\n",
              "\n",
              "        async function convertToInteractive(key) {\n",
              "          const element = document.querySelector('#df-d2f3e112-5db3-4f11-ae5b-2d980b3570f0');\n",
              "          const dataTable =\n",
              "            await google.colab.kernel.invokeFunction('convertToInteractive',\n",
              "                                                     [key], {});\n",
              "          if (!dataTable) return;\n",
              "\n",
              "          const docLinkHtml = 'Like what you see? Visit the ' +\n",
              "            '<a target=\"_blank\" href=https://colab.research.google.com/notebooks/data_table.ipynb>data table notebook</a>'\n",
              "            + ' to learn more about interactive tables.';\n",
              "          element.innerHTML = '';\n",
              "          dataTable['output_type'] = 'display_data';\n",
              "          await google.colab.output.renderOutput(dataTable, element);\n",
              "          const docLink = document.createElement('div');\n",
              "          docLink.innerHTML = docLinkHtml;\n",
              "          element.appendChild(docLink);\n",
              "        }\n",
              "      </script>\n",
              "    </div>\n",
              "  </div>\n",
              "  "
            ]
          },
          "metadata": {},
          "execution_count": 59
        }
      ]
    },
    {
      "cell_type": "code",
      "source": [
        "from sklearn.model_selection import train_test_split"
      ],
      "metadata": {
        "id": "m9wYSn-f8m3H"
      },
      "execution_count": null,
      "outputs": []
    },
    {
      "cell_type": "code",
      "source": [
        "X_train,X_test,Y_train,Y_test = train_test_split(df.drop('Survived',axis=1),df['Survived'],test_size=0.25)"
      ],
      "metadata": {
        "id": "Ytx0zoGv8m8-"
      },
      "execution_count": null,
      "outputs": []
    },
    {
      "cell_type": "code",
      "source": [
        "df.isnull().sum()"
      ],
      "metadata": {
        "colab": {
          "base_uri": "https://localhost:8080/"
        },
        "id": "QGeedQQpR3wz",
        "outputId": "401dc8f2-971b-44e2-ed5e-ce4da9727ff8"
      },
      "execution_count": null,
      "outputs": [
        {
          "output_type": "execute_result",
          "data": {
            "text/plain": [
              "Embarked      2\n",
              "Age         177\n",
              "Fare          0\n",
              "Sex           0\n",
              "Survived      0\n",
              "dtype: int64"
            ]
          },
          "metadata": {},
          "execution_count": 62
        }
      ]
    },
    {
      "cell_type": "markdown",
      "source": [
        "### **Column Transformer**"
      ],
      "metadata": {
        "id": "UzyYl4v-05ZW"
      }
    },
    {
      "cell_type": "code",
      "source": [
        "from sklearn.compose import ColumnTransformer"
      ],
      "metadata": {
        "id": "3z6mW1DCoDDT"
      },
      "execution_count": null,
      "outputs": []
    },
    {
      "cell_type": "code",
      "source": [
        "transformer = ColumnTransformer(transformers = [\n",
        "                                                ('tnf1',SimpleImputer(strategy = 'most_frequent'),['Embarked']),\n",
        "                                                ('tnf2',SimpleImputer(),['Age']),\n",
        "                                                ('tnf3',OrdinalEncoder(categories=[['male','female']]),['Sex']),\n",
        "                                                ('tnf4',OneHotEncoder(sparse=False,drop='first'),['Embarked'])\n",
        "],remainder = 'passthrough')"
      ],
      "metadata": {
        "id": "CtuPXcNA1OKu"
      },
      "execution_count": null,
      "outputs": []
    },
    {
      "cell_type": "code",
      "source": [
        "X_train = transformer.fit_transform(X_train)"
      ],
      "metadata": {
        "id": "QdnAxBWS8icI"
      },
      "execution_count": null,
      "outputs": []
    },
    {
      "cell_type": "code",
      "source": [
        "X_test = transformer.transform(X_test)"
      ],
      "metadata": {
        "id": "MDZyMdS8-JXG"
      },
      "execution_count": null,
      "outputs": []
    },
    {
      "cell_type": "code",
      "source": [
        "X_train.shape,X_test.shape,df.shape"
      ],
      "metadata": {
        "colab": {
          "base_uri": "https://localhost:8080/"
        },
        "id": "R8oStux7I-zz",
        "outputId": "10275336-111b-4bc7-af98-f34a378dd251"
      },
      "execution_count": null,
      "outputs": [
        {
          "output_type": "execute_result",
          "data": {
            "text/plain": [
              "((668, 7), (223, 7), (891, 5))"
            ]
          },
          "metadata": {},
          "execution_count": 67
        }
      ]
    },
    {
      "cell_type": "code",
      "source": [
        "print(X_train)"
      ],
      "metadata": {
        "colab": {
          "base_uri": "https://localhost:8080/"
        },
        "id": "9yG3seSU1Hzn",
        "outputId": "74c266f6-4530-4c4c-a9b9-a56bd0d12240"
      },
      "execution_count": null,
      "outputs": [
        {
          "output_type": "stream",
          "name": "stdout",
          "text": [
            "[['S' 29.599169741697416 0.0 ... 1.0 0.0 14.5]\n",
            " ['C' 4.0 1.0 ... 0.0 0.0 13.4167]\n",
            " ['S' 26.0 0.0 ... 1.0 0.0 8.05]\n",
            " ...\n",
            " ['S' 26.0 1.0 ... 1.0 0.0 26.0]\n",
            " ['C' 18.0 1.0 ... 0.0 0.0 227.525]\n",
            " ['S' 16.0 0.0 ... 1.0 0.0 26.0]]\n"
          ]
        }
      ]
    },
    {
      "cell_type": "code",
      "source": [
        "print(X_train[:,1:])"
      ],
      "metadata": {
        "colab": {
          "base_uri": "https://localhost:8080/"
        },
        "id": "-L2xMI2gMR2Q",
        "outputId": "6e66953b-607c-4e7c-cbd5-bd6f2316351f"
      },
      "execution_count": null,
      "outputs": [
        {
          "output_type": "stream",
          "name": "stdout",
          "text": [
            "[[29.599169741697416 0.0 0.0 1.0 0.0 14.5]\n",
            " [4.0 1.0 0.0 0.0 0.0 13.4167]\n",
            " [26.0 0.0 0.0 1.0 0.0 8.05]\n",
            " ...\n",
            " [26.0 1.0 0.0 1.0 0.0 26.0]\n",
            " [18.0 1.0 0.0 0.0 0.0 227.525]\n",
            " [16.0 0.0 0.0 1.0 0.0 26.0]]\n"
          ]
        }
      ]
    },
    {
      "cell_type": "code",
      "source": [
        "X_train=X_train[:,1:]\n",
        "X_test=X_test[:,1:]"
      ],
      "metadata": {
        "id": "81M3zrLaSgcd"
      },
      "execution_count": null,
      "outputs": []
    },
    {
      "cell_type": "markdown",
      "source": [
        "## **Tranasformers**\n",
        "\n",
        "#### **Sklearn provides 3 types of transformers**\n",
        "\n",
        "\n",
        "1.   **Function transformer** : Log transform, Reciprocal transform, Square root transform or any custom transformer of our own\n",
        "2.   **Power transformer** : Box-Cox transform, Yeo Johnson transform\n",
        "3.   **Quantile transformer**\n",
        "\n"
      ],
      "metadata": {
        "id": "1Zp3IrRN6w8C"
      }
    },
    {
      "cell_type": "markdown",
      "source": [
        "### **Why need data transformation?**\n",
        "\n",
        "* the algorithm is more likely to be biased when the data distribution is skewed. Thus we convert the data into a normal distribution.\n",
        "* transforming data into the same scale allows the algorithm to compare the relative relationship between data points better.\n",
        "* We can use distplot and QQ plot to determine the data distribution."
      ],
      "metadata": {
        "id": "cYp1hQeU8Hp-"
      }
    },
    {
      "cell_type": "markdown",
      "source": [
        "#### **PDF and QQ plot of Age and Fare columns**"
      ],
      "metadata": {
        "id": "42yiCBzcBw02"
      }
    },
    {
      "cell_type": "code",
      "source": [
        "from scipy import stats"
      ],
      "metadata": {
        "id": "GcfpXUFLCgm5"
      },
      "execution_count": null,
      "outputs": []
    },
    {
      "cell_type": "code",
      "source": [
        "def plot_pdf_qq(data,col):\n",
        "  plt.figure(figsize = (14,4))\n",
        "  plt.subplot(121)\n",
        "  sns.distplot(data[col])\n",
        "  plt.title(col+' PDF')\n",
        "\n",
        "  plt.subplot(122)\n",
        "  stats.probplot(data['Age'],dist = 'norm',plot = plt)\n",
        "  plt.title(col+' QQ plot')"
      ],
      "metadata": {
        "id": "bHaG8zpm3TFF"
      },
      "execution_count": null,
      "outputs": []
    },
    {
      "cell_type": "code",
      "source": [
        "plot_pdf_qq(df,'Age')"
      ],
      "metadata": {
        "colab": {
          "base_uri": "https://localhost:8080/",
          "height": 350
        },
        "id": "6uqKbCplClhG",
        "outputId": "b7e45444-b005-43fb-f182-c145321cb075"
      },
      "execution_count": null,
      "outputs": [
        {
          "output_type": "stream",
          "name": "stderr",
          "text": [
            "/usr/local/lib/python3.7/dist-packages/seaborn/distributions.py:2619: FutureWarning: `distplot` is a deprecated function and will be removed in a future version. Please adapt your code to use either `displot` (a figure-level function with similar flexibility) or `histplot` (an axes-level function for histograms).\n",
            "  warnings.warn(msg, FutureWarning)\n"
          ]
        },
        {
          "output_type": "display_data",
          "data": {
            "text/plain": [
              "<Figure size 1008x288 with 2 Axes>"
            ],
            "image/png": "[encoded data removed]"
          },
          "metadata": {
            "needs_background": "light"
          }
        }
      ]
    },
    {
      "cell_type": "code",
      "source": [
        "plot_pdf_qq(df,'Fare')"
      ],
      "metadata": {
        "colab": {
          "base_uri": "https://localhost:8080/",
          "height": 350
        },
        "id": "eHH16OnMDa_W",
        "outputId": "3e3a502f-a84c-47ba-939a-3f80e9a66613"
      },
      "execution_count": null,
      "outputs": [
        {
          "output_type": "stream",
          "name": "stderr",
          "text": [
            "/usr/local/lib/python3.7/dist-packages/seaborn/distributions.py:2619: FutureWarning: `distplot` is a deprecated function and will be removed in a future version. Please adapt your code to use either `displot` (a figure-level function with similar flexibility) or `histplot` (an axes-level function for histograms).\n",
            "  warnings.warn(msg, FutureWarning)\n"
          ]
        },
        {
          "output_type": "display_data",
          "data": {
            "text/plain": [
              "<Figure size 1008x288 with 2 Axes>"
            ],
            "image/png": "[encoded data removed]"
          },
          "metadata": {
            "needs_background": "light"
          }
        }
      ]
    },
    {
      "cell_type": "markdown",
      "source": [
        "**Training on normal data**"
      ],
      "metadata": {
        "id": "sjj_v2ZcFWgG"
      }
    },
    {
      "cell_type": "code",
      "source": [
        "from sklearn.linear_model import LogisticRegression\n",
        "from sklearn.tree import DecisionTreeClassifier\n",
        "from sklearn.metrics import accuracy_score"
      ],
      "metadata": {
        "id": "rBuWDmMODfCV"
      },
      "execution_count": null,
      "outputs": []
    },
    {
      "cell_type": "code",
      "source": [
        "clf1 = LogisticRegression()\n",
        "clf2 = DecisionTreeClassifier()"
      ],
      "metadata": {
        "id": "vJIN_P-DFuOU"
      },
      "execution_count": null,
      "outputs": []
    },
    {
      "cell_type": "code",
      "source": [
        "clf1.fit(X_train,Y_train)\n",
        "clf2.fit(X_train,Y_train)\n",
        "\n",
        "pred1 = clf1.predict(X_test)\n",
        "pred2 = clf2.predict(X_test)\n",
        "\n",
        "print(\"Accuracy of logistic regression: \", accuracy_score(Y_test,pred1))\n",
        "print(\"Accuracy of decision tree classifier: \", accuracy_score(Y_test,pred2))"
      ],
      "metadata": {
        "colab": {
          "base_uri": "https://localhost:8080/"
        },
        "id": "SebWj2z2GbYF",
        "outputId": "19759543-3719-4239-95eb-940c82467c48"
      },
      "execution_count": null,
      "outputs": [
        {
          "output_type": "stream",
          "name": "stdout",
          "text": [
            "Accuracy of logistic regression:  0.7802690582959642\n",
            "Accuracy of decision tree classifier:  0.7757847533632287\n"
          ]
        }
      ]
    },
    {
      "cell_type": "markdown",
      "source": [
        "#### **Log transform**"
      ],
      "metadata": {
        "id": "mz_xXD9ES5u1"
      }
    },
    {
      "cell_type": "code",
      "source": [
        "from sklearn.preprocessing import FunctionTransformer"
      ],
      "metadata": {
        "id": "mGqF6L95Tr_D"
      },
      "execution_count": null,
      "outputs": []
    },
    {
      "cell_type": "code",
      "source": [
        "log_trf = FunctionTransformer(np.log1p)"
      ],
      "metadata": {
        "id": "fY_9hHpUS5iI"
      },
      "execution_count": null,
      "outputs": []
    },
    {
      "cell_type": "code",
      "source": [
        "X_train_log_transformed = log_trf.fit_transform(X_train.astype(float))\n",
        "X_test_log_transformed = log_trf.transform(X_test.astype(float))"
      ],
      "metadata": {
        "id": "j7GN6nNBHJI9"
      },
      "execution_count": null,
      "outputs": []
    },
    {
      "cell_type": "code",
      "source": [
        "clf1 = LogisticRegression()\n",
        "clf2 = DecisionTreeClassifier()"
      ],
      "metadata": {
        "id": "3aOZRNroUCEJ"
      },
      "execution_count": null,
      "outputs": []
    },
    {
      "cell_type": "code",
      "source": [
        "clf1.fit(X_train_log_transformed,Y_train)\n",
        "clf2.fit(X_train_log_transformed,Y_train)\n",
        "\n",
        "pred1 = clf1.predict(X_test_log_transformed)\n",
        "pred2 = clf2.predict(X_test_log_transformed)\n",
        "\n",
        "print(\"Accuracy of logistic regression: \", accuracy_score(Y_test,pred1))\n",
        "print(\"Accuracy of decision tree classifier: \", accuracy_score(Y_test,pred2))"
      ],
      "metadata": {
        "colab": {
          "base_uri": "https://localhost:8080/"
        },
        "id": "6Lehg4IDVWNM",
        "outputId": "e31dafe5-0800-4dad-dfc5-8d272da75a72"
      },
      "execution_count": null,
      "outputs": [
        {
          "output_type": "stream",
          "name": "stdout",
          "text": [
            "Accuracy of logistic regression:  0.7802690582959642\n",
            "Accuracy of decision tree classifier:  0.7937219730941704\n"
          ]
        }
      ]
    },
    {
      "cell_type": "markdown",
      "source": [
        "**Accuracy of logistic regression increases but decision tree remains unaffected as tree based algorithms donot rely on distribution of data.**"
      ],
      "metadata": {
        "id": "kNc6U24OVsGU"
      }
    },
    {
      "cell_type": "markdown",
      "source": [
        "#### **Use of function transformer to compare accuracies**"
      ],
      "metadata": {
        "id": "1ZVdF9mRqpuD"
      }
    },
    {
      "cell_type": "code",
      "source": [
        "def get_results(transform):\n",
        "  X_train,X_test,Y_train,Y_test = train_test_split(df.drop('Survived',axis=1),df['Survived'],test_size=0.25)\n",
        "  trf = ColumnTransformer(transformers = [\n",
        "                                                ('tnf1',SimpleImputer(strategy = 'most_frequent'),['Embarked']),\n",
        "                                                ('tnf2',SimpleImputer(),['Age']),\n",
        "                                                ('tnf3',OrdinalEncoder(categories=[['male','female']]),['Sex']),\n",
        "                                                ('tnf4',OneHotEncoder(sparse=False,drop='first'),['Embarked']),\n",
        "                                                ('tnf5',FunctionTransformer(transform),['Fare'])\n",
        "  ],remainder = 'passthrough')\n",
        "  X_train_transformed = trf.fit_transform(X_train)\n",
        "  X_test_transformed = trf.transform(X_test)\n",
        "\n",
        "  # print(X_train)\n",
        "  # print(X_train_transformed)\n",
        "\n",
        "  X_train_transformed = X_train_transformed[:,1:]\n",
        "  X_test_transformed = X_test_transformed[:,1:]\n",
        "\n",
        "  clf1.fit(X_train_transformed,Y_train)\n",
        "  clf2.fit(X_train_transformed,Y_train)\n",
        "\n",
        "  pred1 = clf1.predict(X_test_transformed)\n",
        "  pred2 = clf2.predict(X_test_transformed)\n",
        "\n",
        "  print(\"Accuracy of logistic regression: \", accuracy_score(Y_test,pred1))\n",
        "  print(\"Accuracy of decision tree classifier: \", accuracy_score(Y_test,pred2))"
      ],
      "metadata": {
        "id": "qbuTwGZYViz9"
      },
      "execution_count": null,
      "outputs": []
    },
    {
      "cell_type": "code",
      "source": [
        "get_results(lambda x: 1/(x+0.001))"
      ],
      "metadata": {
        "colab": {
          "base_uri": "https://localhost:8080/"
        },
        "id": "JIYJVMv8sETr",
        "outputId": "09f7ad63-5f89-47d9-f5ee-723371a1357e"
      },
      "execution_count": null,
      "outputs": [
        {
          "output_type": "stream",
          "name": "stdout",
          "text": [
            "Accuracy of logistic regression:  0.8251121076233184\n",
            "Accuracy of decision tree classifier:  0.7757847533632287\n"
          ]
        }
      ]
    },
    {
      "cell_type": "code",
      "source": [
        "get_results(lambda x: np.log1p(x))"
      ],
      "metadata": {
        "colab": {
          "base_uri": "https://localhost:8080/"
        },
        "id": "zGJ-hVMgsIuB",
        "outputId": "8203861e-45c6-45e3-f3f3-ac2a4ef11334"
      },
      "execution_count": null,
      "outputs": [
        {
          "output_type": "stream",
          "name": "stdout",
          "text": [
            "Accuracy of logistic regression:  0.8161434977578476\n",
            "Accuracy of decision tree classifier:  0.7130044843049327\n"
          ]
        },
        {
          "output_type": "stream",
          "name": "stderr",
          "text": [
            "/usr/local/lib/python3.7/dist-packages/sklearn/linear_model/_logistic.py:818: ConvergenceWarning: lbfgs failed to converge (status=1):\n",
            "STOP: TOTAL NO. of ITERATIONS REACHED LIMIT.\n",
            "\n",
            "Increase the number of iterations (max_iter) or scale the data as shown in:\n",
            "    https://scikit-learn.org/stable/modules/preprocessing.html\n",
            "Please also refer to the documentation for alternative solver options:\n",
            "    https://scikit-learn.org/stable/modules/linear_model.html#logistic-regression\n",
            "  extra_warning_msg=_LOGISTIC_SOLVER_CONVERGENCE_MSG,\n"
          ]
        }
      ]
    },
    {
      "cell_type": "code",
      "source": [
        "get_results(lambda x: x)"
      ],
      "metadata": {
        "colab": {
          "base_uri": "https://localhost:8080/"
        },
        "id": "6XFF0wFkx3x7",
        "outputId": "9ff269a3-fc79-4510-895a-4a287a1e5ed2"
      },
      "execution_count": null,
      "outputs": [
        {
          "output_type": "stream",
          "name": "stdout",
          "text": [
            "Accuracy of logistic regression:  0.7623318385650224\n",
            "Accuracy of decision tree classifier:  0.7174887892376681\n"
          ]
        }
      ]
    },
    {
      "cell_type": "code",
      "source": [
        "get_results(lambda x: x**(1/2))"
      ],
      "metadata": {
        "colab": {
          "base_uri": "https://localhost:8080/"
        },
        "id": "Slk-VAQmx9Kc",
        "outputId": "214e8da7-712e-467d-81f8-340ef2d2632d"
      },
      "execution_count": null,
      "outputs": [
        {
          "output_type": "stream",
          "name": "stdout",
          "text": [
            "Accuracy of logistic regression:  0.7982062780269058\n",
            "Accuracy of decision tree classifier:  0.7623318385650224\n"
          ]
        }
      ]
    },
    {
      "cell_type": "markdown",
      "source": [
        "### **Box-Cox transformation**"
      ],
      "metadata": {
        "id": "n8hbXiUVLSxB"
      }
    },
    {
      "cell_type": "markdown",
      "source": [
        "![image.png](data:image/png;base64,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)"
      ],
      "metadata": {
        "id": "59Y0itUyLP0b"
      }
    },
    {
      "cell_type": "markdown",
      "source": [
        "![image.png](data:image/png;base64,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)"
      ],
      "metadata": {
        "id": "9ZHDYFwVLcfY"
      }
    },
    {
      "cell_type": "markdown",
      "source": [
        "* **The value of lambda varies from -5 to 5, and the value of lambda for which the best normal distribution by means of maximum likelihood estimation or bayesian statistics is approximated is taken for the transformation.**\n",
        "\n",
        "* **Negative values can not be transformed by this method, this problem is solved by the Yeo-Johnson transformation.**"
      ],
      "metadata": {
        "id": "qMCUfiF9LXgj"
      }
    },
    {
      "cell_type": "code",
      "source": [
        "from sklearn.preprocessing import PowerTransformer\n",
        "from sklearn.model_selection import cross_val_score\n",
        "from sklearn.metrics import r2_score"
      ],
      "metadata": {
        "id": "LS2ZwhkhyG1b"
      },
      "execution_count": null,
      "outputs": []
    },
    {
      "cell_type": "code",
      "source": [
        "X_train,X_test,Y_train,Y_test = train_test_split(df.drop('Survived',axis=1),df['Survived'],test_size=0.25)\n",
        "trf = ColumnTransformer(transformers = [\n",
        "                                              ('tnf1',SimpleImputer(strategy = 'most_frequent'),['Embarked']),\n",
        "                                              ('tnf2',SimpleImputer(),['Age']),\n",
        "                                              ('tnf3',OrdinalEncoder(categories=[['male','female']]),['Sex']),\n",
        "                                              ('tnf4',OneHotEncoder(sparse=False,drop='first'),['Embarked'])\n",
        "],remainder = 'passthrough')\n",
        "X_train_transformed = trf.fit_transform(X_train)\n",
        "X_test_transformed = trf.transform(X_test)"
      ],
      "metadata": {
        "colab": {
          "base_uri": "https://localhost:8080/"
        },
        "id": "EgbCvj76HMJL",
        "outputId": "3348d5ec-1002-4bcf-cf8f-ddc5f38a5086"
      },
      "execution_count": null,
      "outputs": [
        {
          "output_type": "execute_result",
          "data": {
            "text/plain": [
              "array([['S', 19.0, 1.0, ..., 1.0, 0.0, 26.0],\n",
              "       ['S', 30.172325141776938, 0.0, ..., 1.0, 0.0, 7.25],\n",
              "       ['S', 27.0, 0.0, ..., 1.0, 0.0, 13.0],\n",
              "       ...,\n",
              "       ['C', 30.172325141776938, 1.0, ..., 0.0, 0.0, 7.225],\n",
              "       ['C', 20.0, 0.0, ..., 0.0, 0.0, 15.7417],\n",
              "       ['S', 7.0, 0.0, ..., 1.0, 0.0, 39.6875]], dtype=object)"
            ]
          },
          "metadata": {},
          "execution_count": 89
        }
      ]
    },
    {
      "cell_type": "code",
      "source": [
        "def get_power_transform_results(X_train_transformed,X_test_transformed,transform):\n",
        "  X_train_transformed = X_train_transformed[:,1:]\n",
        "  X_test_transformed = X_test_transformed[:,1:]\n",
        "\n",
        "  pt = PowerTransformer(method = transform)\n",
        "\n",
        "  X_train_transformed = pt.fit_transform(X_train_transformed+0.0001)\n",
        "  X_test_transformed = pt.transform(X_test_transformed+0.0001)\n",
        "\n",
        "  clf1.fit(X_train_transformed,Y_train)\n",
        "  clf2.fit(X_train_transformed,Y_train)\n",
        "\n",
        "  pred1 = clf1.predict(X_test_transformed)\n",
        "  pred2 = clf2.predict(X_test_transformed)\n",
        "\n",
        "  print(\"Accuracy of logistic regression: \", accuracy_score(Y_test,pred1))\n",
        "  print(\"Accuracy of decision tree classifier: \", accuracy_score(Y_test,pred2))"
      ],
      "metadata": {
        "id": "kYc-V-s2MizR"
      },
      "execution_count": null,
      "outputs": []
    },
    {
      "cell_type": "code",
      "source": [
        "get_power_transform_results(X_train_transformed,X_test_transformed,'box-cox')"
      ],
      "metadata": {
        "colab": {
          "base_uri": "https://localhost:8080/"
        },
        "id": "5lSX-6ANGfyy",
        "outputId": "dd22f3e4-36df-49c2-97d4-cd5ec8fda614"
      },
      "execution_count": null,
      "outputs": [
        {
          "output_type": "stream",
          "name": "stdout",
          "text": [
            "Accuracy of logistic regression:  0.7847533632286996\n",
            "Accuracy of decision tree classifier:  0.7802690582959642\n"
          ]
        },
        {
          "output_type": "stream",
          "name": "stderr",
          "text": [
            "/usr/local/lib/python3.7/dist-packages/numpy/core/_methods.py:233: RuntimeWarning: overflow encountered in multiply\n",
            "  x = um.multiply(x, x, out=x)\n"
          ]
        }
      ]
    },
    {
      "cell_type": "code",
      "source": [
        "get_power_transform_results(X_train_transformed,X_test_transformed,'yeo-johnson')"
      ],
      "metadata": {
        "colab": {
          "base_uri": "https://localhost:8080/"
        },
        "id": "pfD-9gwmJpj4",
        "outputId": "87cec994-ea06-4e44-cc44-d17e125f064e"
      },
      "execution_count": null,
      "outputs": [
        {
          "output_type": "stream",
          "name": "stdout",
          "text": [
            "Accuracy of logistic regression:  0.7802690582959642\n",
            "Accuracy of decision tree classifier:  0.7757847533632287\n"
          ]
        }
      ]
    },
    {
      "cell_type": "code",
      "source": [
        ""
      ],
      "metadata": {
        "id": "0UJGLkGtLG40"
      },
      "execution_count": null,
      "outputs": []
    }
  ]
}